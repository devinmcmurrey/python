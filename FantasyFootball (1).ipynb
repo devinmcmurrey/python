{
 "cells": [
  {
   "cell_type": "code",
   "execution_count": 2,
   "id": "8d5aee51-98b6-4cfc-8265-06a9c15a2435",
   "metadata": {},
   "outputs": [],
   "source": [
    "#team week to week stats \n",
    "\n",
    "FILE_PATH = \"C:\\CIS5357\\FantasyPython\"\n",
    "Team_Weekly_output_file = open(FILE_PATH + '\\Team_weekly_data.csv', 'w')\n",
    "\n",
    "import json\n",
    "import requests\n",
    "import pandas as pd\n",
    "'''imports api for weekly stats in head to head matchups'''\n",
    "\n",
    "url_ = 'https://api.sportsdata.io/v3/nfl/scores/json/GameStatsByWeek/2021REG/1'\n",
    "head = {'Ocp-Apim-Subscription-Key': 'bd936deeacf54fe2b9aa6f972589db71' }\n",
    "response = requests.get(url=url_, headers=head)\n",
    "stats_by_week= json.loads(response.text)\n",
    "\n",
    "#print(stats_by_week)\n",
    "\n",
    "#for game_index in stats_by_week:\n",
    "    #GameKey = game_index['GameKey']\n",
    "    #Week = game_index['Week']\n",
    "    #HomeTeam = game_index['HomeTeam']\n",
    "    #AwayTeam = game_index['AwayTeam']\n",
    "    \n",
    "    #print(f'{GameKey}\\t{Week}\\t{HomeTeam}\\t{AwayTeam}')\n",
    "\n",
    "#for lis in [x.keys() for x in stats_by_week]:\n",
    "    #print(lis, '\\n\\n')\n",
    "    \n",
    "stats_by_week= pd.DataFrame(stats_by_week) \n",
    "\n",
    "refined_sbw = stats_by_week.drop(stats_by_week.columns[[5,6,1]], axis = 1, inplace= True)\n",
    "refined_sbw = stats_by_week.drop(['StadiumDetails'], axis = 1)\n",
    "\n",
    "#team_sbw = stats_by_week[['Week','HomeTeam','HomeTimeOfPossession','HomeOffensivePlays','HomeRushingAttempts','HomeRushingYardsPerAttempt','HomeFirstDownsByRushing','HomePassingAttempts','HomePassingYards','HomeFirstDownsByPassing','AwayTeam','AwayTimeOfPossession','AwayOffensivePlays',\n",
    "                          #'AwayRushingAttempts','AwayRushingYardsPerAttempt','AwayFirstDownsByRushing','AwayPassingAttempts','AwayPassingYards','AwayFirstDownsByPassing',\n",
    "                         #'AwayRedZoneAttempts', 'HomeRedZoneAttempts', 'AwayRedZoneConversions', 'HomeRedZoneConversions', 'AwayGoalToGoAttempts', 'HomeGoalToGoAttempts', 'AwayGoalToGoConversions', 'HomeGoalToGoConversions']] \n",
    "#display(team_sbw)\n",
    "\n",
    "home_sbw = stats_by_week[['Week','HomeTeam','HomeTimeOfPossession','HomeOffensivePlays','HomeRushingAttempts',\n",
    "                          'HomeRushingYardsPerAttempt','HomeFirstDownsByRushing','HomePassingAttempts',\n",
    "                          'HomePassingYards','HomeFirstDownsByPassing','HomeRedZoneAttempts',\n",
    "                          'HomeRedZoneConversions']] \n",
    "\n",
    "away_sbw = stats_by_week[['Week','AwayTeam','AwayTimeOfPossession','AwayOffensivePlays',\n",
    "                          'AwayRushingAttempts','AwayRushingYardsPerAttempt','AwayFirstDownsByRushing',\n",
    "                          'AwayPassingAttempts','AwayPassingYards','AwayFirstDownsByPassing',\n",
    "                         'AwayRedZoneAttempts','AwayRedZoneConversions',]] \n",
    "\n",
    "#team_sbw_csv = team_sbw.to_csv(index = False)\n",
    "home_sbw_csv = home_sbw.to_csv(index = False)\n",
    "away_sbw_csv = away_sbw.to_csv(index = False) \n",
    "\n",
    "Team_Weekly_output_file.write(home_sbw_csv)\n",
    "Team_Weekly_output_file.write(away_sbw_csv)\n",
    "Team_Weekly_output_file.close()\n",
    "\n",
    "\n",
    "#Team_Weekly_output_file.write(team_sbw_csv)    \n",
    "#Team_Weekly_output_file.close()"
   ]
  },
  {
   "cell_type": "markdown",
   "id": "e66abda4-cba9-49be-9b40-b393412776d7",
   "metadata": {},
   "source": [
    "League Leaders by season\n"
   ]
  },
  {
   "cell_type": "code",
   "execution_count": 61,
   "id": "7807a6d9-c3e2-44f4-866b-30076b3c4f54",
   "metadata": {},
   "outputs": [
    {
     "name": "stdout",
     "output_type": "stream",
     "text": [
      "{'HttpStatusCode': 400, 'Code': 400, 'Description': 'Invalid Argument: The column parameter is invalid.', 'Help': 'Please contact support@fantasydata.com for assistance'}\n"
     ]
    },
    {
     "ename": "ValueError",
     "evalue": "If using all scalar values, you must pass an index",
     "output_type": "error",
     "traceback": [
      "\u001b[1;31m---------------------------------------------------------------------------\u001b[0m",
      "\u001b[1;31mValueError\u001b[0m                                Traceback (most recent call last)",
      "\u001b[1;32m<ipython-input-61-f847a9d345f5>\u001b[0m in \u001b[0;36m<module>\u001b[1;34m\u001b[0m\n\u001b[0;32m      4\u001b[0m \u001b[0mplayers\u001b[0m \u001b[1;33m=\u001b[0m \u001b[0mjson\u001b[0m\u001b[1;33m.\u001b[0m\u001b[0mloads\u001b[0m\u001b[1;33m(\u001b[0m\u001b[0mresponse\u001b[0m\u001b[1;33m.\u001b[0m\u001b[0mtext\u001b[0m\u001b[1;33m)\u001b[0m\u001b[1;33m\u001b[0m\u001b[1;33m\u001b[0m\u001b[0m\n\u001b[0;32m      5\u001b[0m \u001b[0mprint\u001b[0m\u001b[1;33m(\u001b[0m\u001b[0mplayers\u001b[0m\u001b[1;33m)\u001b[0m\u001b[1;33m\u001b[0m\u001b[1;33m\u001b[0m\u001b[0m\n\u001b[1;32m----> 6\u001b[1;33m \u001b[0mplayers\u001b[0m \u001b[1;33m=\u001b[0m \u001b[0mpd\u001b[0m\u001b[1;33m.\u001b[0m\u001b[0mDataFrame\u001b[0m\u001b[1;33m(\u001b[0m\u001b[0mplayers\u001b[0m\u001b[1;33m)\u001b[0m\u001b[1;33m\u001b[0m\u001b[1;33m\u001b[0m\u001b[0m\n\u001b[0m\u001b[0;32m      7\u001b[0m \u001b[0mprint\u001b[0m\u001b[1;33m(\u001b[0m\u001b[0mplayers\u001b[0m\u001b[1;33m)\u001b[0m\u001b[1;33m\u001b[0m\u001b[1;33m\u001b[0m\u001b[0m\n\u001b[0;32m      8\u001b[0m \u001b[0mdisplay\u001b[0m\u001b[1;33m(\u001b[0m\u001b[0mplayers\u001b[0m\u001b[1;33m)\u001b[0m\u001b[1;33m\u001b[0m\u001b[1;33m\u001b[0m\u001b[0m\n",
      "\u001b[1;32m~\\anaconda3\\lib\\site-packages\\pandas\\core\\frame.py\u001b[0m in \u001b[0;36m__init__\u001b[1;34m(self, data, index, columns, dtype, copy)\u001b[0m\n\u001b[0;32m    612\u001b[0m         \u001b[1;32melif\u001b[0m \u001b[0misinstance\u001b[0m\u001b[1;33m(\u001b[0m\u001b[0mdata\u001b[0m\u001b[1;33m,\u001b[0m \u001b[0mdict\u001b[0m\u001b[1;33m)\u001b[0m\u001b[1;33m:\u001b[0m\u001b[1;33m\u001b[0m\u001b[1;33m\u001b[0m\u001b[0m\n\u001b[0;32m    613\u001b[0m             \u001b[1;31m# GH#38939 de facto copy defaults to False only in non-dict cases\u001b[0m\u001b[1;33m\u001b[0m\u001b[1;33m\u001b[0m\u001b[1;33m\u001b[0m\u001b[0m\n\u001b[1;32m--> 614\u001b[1;33m             \u001b[0mmgr\u001b[0m \u001b[1;33m=\u001b[0m \u001b[0mdict_to_mgr\u001b[0m\u001b[1;33m(\u001b[0m\u001b[0mdata\u001b[0m\u001b[1;33m,\u001b[0m \u001b[0mindex\u001b[0m\u001b[1;33m,\u001b[0m \u001b[0mcolumns\u001b[0m\u001b[1;33m,\u001b[0m \u001b[0mdtype\u001b[0m\u001b[1;33m=\u001b[0m\u001b[0mdtype\u001b[0m\u001b[1;33m,\u001b[0m \u001b[0mcopy\u001b[0m\u001b[1;33m=\u001b[0m\u001b[0mcopy\u001b[0m\u001b[1;33m,\u001b[0m \u001b[0mtyp\u001b[0m\u001b[1;33m=\u001b[0m\u001b[0mmanager\u001b[0m\u001b[1;33m)\u001b[0m\u001b[1;33m\u001b[0m\u001b[1;33m\u001b[0m\u001b[0m\n\u001b[0m\u001b[0;32m    615\u001b[0m         \u001b[1;32melif\u001b[0m \u001b[0misinstance\u001b[0m\u001b[1;33m(\u001b[0m\u001b[0mdata\u001b[0m\u001b[1;33m,\u001b[0m \u001b[0mma\u001b[0m\u001b[1;33m.\u001b[0m\u001b[0mMaskedArray\u001b[0m\u001b[1;33m)\u001b[0m\u001b[1;33m:\u001b[0m\u001b[1;33m\u001b[0m\u001b[1;33m\u001b[0m\u001b[0m\n\u001b[0;32m    616\u001b[0m             \u001b[1;32mimport\u001b[0m \u001b[0mnumpy\u001b[0m\u001b[1;33m.\u001b[0m\u001b[0mma\u001b[0m\u001b[1;33m.\u001b[0m\u001b[0mmrecords\u001b[0m \u001b[1;32mas\u001b[0m \u001b[0mmrecords\u001b[0m\u001b[1;33m\u001b[0m\u001b[1;33m\u001b[0m\u001b[0m\n",
      "\u001b[1;32m~\\anaconda3\\lib\\site-packages\\pandas\\core\\internals\\construction.py\u001b[0m in \u001b[0;36mdict_to_mgr\u001b[1;34m(data, index, columns, dtype, typ, copy)\u001b[0m\n\u001b[0;32m    462\u001b[0m         \u001b[1;31m# TODO: can we get rid of the dt64tz special case above?\u001b[0m\u001b[1;33m\u001b[0m\u001b[1;33m\u001b[0m\u001b[1;33m\u001b[0m\u001b[0m\n\u001b[0;32m    463\u001b[0m \u001b[1;33m\u001b[0m\u001b[0m\n\u001b[1;32m--> 464\u001b[1;33m     return arrays_to_mgr(\n\u001b[0m\u001b[0;32m    465\u001b[0m         \u001b[0marrays\u001b[0m\u001b[1;33m,\u001b[0m \u001b[0mdata_names\u001b[0m\u001b[1;33m,\u001b[0m \u001b[0mindex\u001b[0m\u001b[1;33m,\u001b[0m \u001b[0mcolumns\u001b[0m\u001b[1;33m,\u001b[0m \u001b[0mdtype\u001b[0m\u001b[1;33m=\u001b[0m\u001b[0mdtype\u001b[0m\u001b[1;33m,\u001b[0m \u001b[0mtyp\u001b[0m\u001b[1;33m=\u001b[0m\u001b[0mtyp\u001b[0m\u001b[1;33m,\u001b[0m \u001b[0mconsolidate\u001b[0m\u001b[1;33m=\u001b[0m\u001b[0mcopy\u001b[0m\u001b[1;33m\u001b[0m\u001b[1;33m\u001b[0m\u001b[0m\n\u001b[0;32m    466\u001b[0m     )\n",
      "\u001b[1;32m~\\anaconda3\\lib\\site-packages\\pandas\\core\\internals\\construction.py\u001b[0m in \u001b[0;36marrays_to_mgr\u001b[1;34m(arrays, arr_names, index, columns, dtype, verify_integrity, typ, consolidate)\u001b[0m\n\u001b[0;32m    117\u001b[0m         \u001b[1;31m# figure out the index, if necessary\u001b[0m\u001b[1;33m\u001b[0m\u001b[1;33m\u001b[0m\u001b[1;33m\u001b[0m\u001b[0m\n\u001b[0;32m    118\u001b[0m         \u001b[1;32mif\u001b[0m \u001b[0mindex\u001b[0m \u001b[1;32mis\u001b[0m \u001b[1;32mNone\u001b[0m\u001b[1;33m:\u001b[0m\u001b[1;33m\u001b[0m\u001b[1;33m\u001b[0m\u001b[0m\n\u001b[1;32m--> 119\u001b[1;33m             \u001b[0mindex\u001b[0m \u001b[1;33m=\u001b[0m \u001b[0m_extract_index\u001b[0m\u001b[1;33m(\u001b[0m\u001b[0marrays\u001b[0m\u001b[1;33m)\u001b[0m\u001b[1;33m\u001b[0m\u001b[1;33m\u001b[0m\u001b[0m\n\u001b[0m\u001b[0;32m    120\u001b[0m         \u001b[1;32melse\u001b[0m\u001b[1;33m:\u001b[0m\u001b[1;33m\u001b[0m\u001b[1;33m\u001b[0m\u001b[0m\n\u001b[0;32m    121\u001b[0m             \u001b[0mindex\u001b[0m \u001b[1;33m=\u001b[0m \u001b[0mensure_index\u001b[0m\u001b[1;33m(\u001b[0m\u001b[0mindex\u001b[0m\u001b[1;33m)\u001b[0m\u001b[1;33m\u001b[0m\u001b[1;33m\u001b[0m\u001b[0m\n",
      "\u001b[1;32m~\\anaconda3\\lib\\site-packages\\pandas\\core\\internals\\construction.py\u001b[0m in \u001b[0;36m_extract_index\u001b[1;34m(data)\u001b[0m\n\u001b[0;32m    623\u001b[0m \u001b[1;33m\u001b[0m\u001b[0m\n\u001b[0;32m    624\u001b[0m         \u001b[1;32mif\u001b[0m \u001b[1;32mnot\u001b[0m \u001b[0mindexes\u001b[0m \u001b[1;32mand\u001b[0m \u001b[1;32mnot\u001b[0m \u001b[0mraw_lengths\u001b[0m\u001b[1;33m:\u001b[0m\u001b[1;33m\u001b[0m\u001b[1;33m\u001b[0m\u001b[0m\n\u001b[1;32m--> 625\u001b[1;33m             \u001b[1;32mraise\u001b[0m \u001b[0mValueError\u001b[0m\u001b[1;33m(\u001b[0m\u001b[1;34m\"If using all scalar values, you must pass an index\"\u001b[0m\u001b[1;33m)\u001b[0m\u001b[1;33m\u001b[0m\u001b[1;33m\u001b[0m\u001b[0m\n\u001b[0m\u001b[0;32m    626\u001b[0m \u001b[1;33m\u001b[0m\u001b[0m\n\u001b[0;32m    627\u001b[0m         \u001b[1;32mif\u001b[0m \u001b[0mhave_series\u001b[0m\u001b[1;33m:\u001b[0m\u001b[1;33m\u001b[0m\u001b[1;33m\u001b[0m\u001b[0m\n",
      "\u001b[1;31mValueError\u001b[0m: If using all scalar values, you must pass an index"
     ]
    }
   ],
   "source": [
    "url_ = ' https://api.sportsdata.io/v3/nfl/stats/json/SeasonLeagueLeaders/2021REG/RB/YARDS'\n",
    "head = {'Ocp-Apim-Subscription-Key': 'bd936deeacf54fe2b9aa6f972589db71' }\n",
    "response = requests.get(url=url_, headers=head)\n",
    "players = json.loads(response.text)\n",
    "print(players)\n",
    "players = pd.DataFrame(players)\n",
    "print(players)\n",
    "display(players)"
   ]
  },
  {
   "cell_type": "markdown",
   "id": "6a83079d-8bba-4fa6-b3da-88dcc8bc43a8",
   "metadata": {},
   "source": [
    "Player Game Stats by Week\n"
   ]
  },
  {
   "cell_type": "code",
   "execution_count": 1,
   "id": "e85dfcb5-aa6d-43f5-95c8-ac4cb3196359",
   "metadata": {},
   "outputs": [
    {
     "ename": "NameError",
     "evalue": "name 'requests' is not defined",
     "output_type": "error",
     "traceback": [
      "\u001b[1;31m---------------------------------------------------------------------------\u001b[0m",
      "\u001b[1;31mNameError\u001b[0m                                 Traceback (most recent call last)",
      "\u001b[1;32m<ipython-input-1-44d90385a0d0>\u001b[0m in \u001b[0;36m<module>\u001b[1;34m\u001b[0m\n\u001b[0;32m      1\u001b[0m \u001b[0murl_\u001b[0m \u001b[1;33m=\u001b[0m \u001b[1;34m' https://api.sportsdata.io/v3/nfl/scores/json/TeamGameStats/2021REG/16'\u001b[0m\u001b[1;33m\u001b[0m\u001b[1;33m\u001b[0m\u001b[0m\n\u001b[0;32m      2\u001b[0m \u001b[0mhead\u001b[0m \u001b[1;33m=\u001b[0m \u001b[1;33m{\u001b[0m\u001b[1;34m'Ocp-Apim-Subscription-Key'\u001b[0m\u001b[1;33m:\u001b[0m \u001b[1;34m'bd936deeacf54fe2b9aa6f972589db71'\u001b[0m \u001b[1;33m}\u001b[0m\u001b[1;33m\u001b[0m\u001b[1;33m\u001b[0m\u001b[0m\n\u001b[1;32m----> 3\u001b[1;33m \u001b[0mresponse\u001b[0m \u001b[1;33m=\u001b[0m \u001b[0mrequests\u001b[0m\u001b[1;33m.\u001b[0m\u001b[0mget\u001b[0m\u001b[1;33m(\u001b[0m\u001b[0murl\u001b[0m\u001b[1;33m=\u001b[0m\u001b[0murl_\u001b[0m\u001b[1;33m,\u001b[0m \u001b[0mheaders\u001b[0m\u001b[1;33m=\u001b[0m\u001b[0mhead\u001b[0m\u001b[1;33m)\u001b[0m\u001b[1;33m\u001b[0m\u001b[1;33m\u001b[0m\u001b[0m\n\u001b[0m\u001b[0;32m      4\u001b[0m \u001b[0mteams_by_week\u001b[0m \u001b[1;33m=\u001b[0m \u001b[0mjson\u001b[0m\u001b[1;33m.\u001b[0m\u001b[0mloads\u001b[0m\u001b[1;33m(\u001b[0m\u001b[0mresponse\u001b[0m\u001b[1;33m.\u001b[0m\u001b[0mtext\u001b[0m\u001b[1;33m)\u001b[0m\u001b[1;33m\u001b[0m\u001b[1;33m\u001b[0m\u001b[0m\n\u001b[0;32m      5\u001b[0m \u001b[1;31m#print(teams_by_week)\u001b[0m\u001b[1;33m\u001b[0m\u001b[1;33m\u001b[0m\u001b[1;33m\u001b[0m\u001b[0m\n",
      "\u001b[1;31mNameError\u001b[0m: name 'requests' is not defined"
     ]
    }
   ],
   "source": [
    "url_ = ' https://api.sportsdata.io/v3/nfl/scores/json/TeamGameStats/2021REG/16'\n",
    "head = {'Ocp-Apim-Subscription-Key': 'bd936deeacf54fe2b9aa6f972589db71' }\n",
    "response = requests.get(url=url_, headers=head)\n",
    "teams_by_week = json.loads(response.text)\n",
    "#print(teams_by_week)\n",
    "teams_by_week = pd.DataFrame(teams_by_week)\n",
    "teams_by_week.iloc[0:31,0:20]\n"
   ]
  }
 ],
 "metadata": {
  "kernelspec": {
   "display_name": "Python 3",
   "language": "python",
   "name": "python3"
  },
  "language_info": {
   "codemirror_mode": {
    "name": "ipython",
    "version": 3
   },
   "file_extension": ".py",
   "mimetype": "text/x-python",
   "name": "python",
   "nbconvert_exporter": "python",
   "pygments_lexer": "ipython3",
   "version": "3.8.11"
  }
 },
 "nbformat": 4,
 "nbformat_minor": 5
}
