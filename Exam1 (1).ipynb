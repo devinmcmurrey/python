{
 "cells": [
  {
   "cell_type": "markdown",
   "metadata": {},
   "source": [
    "<font color = 'blue'>\n",
    "\n",
    "### NAME: Josh Hershman\n",
    "### DATE: Tuesday, October 5, 2021\n",
    "</font>\n",
    "\n",
    "<font color='red'>\n",
    "    \n",
    "### GRADE: \n",
    "</font>"
   ]
  },
  {
   "cell_type": "markdown",
   "metadata": {},
   "source": [
    "<font color = 'blue'>\n",
    "    \n",
    "### GRADING COMMENTS: <font color='red'>()</font>\n",
    "    \n",
    "<font size = 2>\n",
    "\n",
    "<ol>\n",
    "    <li>Program Design and Code: <font color='red'>()</font></li>\n",
    "    <ol>\n",
    "        <li></li>\n",
    "    </ol>\n",
    "    </ol>\n",
    "</font>\n",
    "</font>"
   ]
  },
  {
   "cell_type": "markdown",
   "metadata": {},
   "source": [
    "<font color='blue'>\n",
    "\n",
    "### Program Name : Examination # 1 - Fall 2021\n",
    "</font>"
   ]
  },
  {
   "cell_type": "code",
   "execution_count": 24,
   "metadata": {},
   "outputs": [
    {
     "name": "stdout",
     "output_type": "stream",
     "text": [
      "50\n",
      "60\n",
      "70\n",
      "100\n",
      "80\n",
      "60\n",
      "End of program.\n"
     ]
    }
   ],
   "source": [
    "# Your program should be entered in this cell: \n",
    "\n",
    "# ----------------------------------------------------------------------------------------------------------\n",
    "# Please do not change the following three statements. If you are using a windows computer, you may         |\n",
    "# comment out the FILE_PATH Statement provided below and define your FILE_PATH for windows computer. Make   | \n",
    "# sure that you uncomment the FILE_PATH statement that I have provided and comment out your file path       |\n",
    "# BEFORE you submit your examination.                                                                       |\n",
    "#                                                                                                           |\n",
    "# You should not alter or change the two file open statements in any way.                                   |\n",
    "# ----------------------------------------------------------------------------------------------------------|\n",
    "\n",
    "#INITIALIZATION \n",
    "import csv\n",
    "\n",
    "FILE_PATH = \"C:\\CIS5357\\Exam1\"\n",
    "\n",
    "exam1_input_file = open(FILE_PATH + '\\Exam1-input.csv', 'r')\n",
    "exam2_output_file = open(FILE_PATH + '\\Exam1-output.csv', 'w')\n",
    "\n",
    "#Initialize counters, constants, integer variables, and string variables\n",
    "PASS_GRADE = 0 #Constant to be read in\n",
    "QUESTION_COUNT = 0 #Constant to be determined from length of answer_key \n",
    "\n",
    "student_grade = 0 #Calculated later\n",
    "exam_result = '' #Determined later\n",
    "\n",
    "answer_key = exam1_input_file.readline().rstrip('\\n') #Read in correct answers\n",
    "PASS_GRADE = int(exam1_input_file.readline().rstrip('\\n')) #Read in passing grade and convert to int for comparison later\n",
    "\n",
    "\n",
    "answer_key = answer_key.split(',')  #splits answer key so it can be compared to student answers later \n",
    "QUESTION_COUNT = len(answer_key)  # allows for quiz to be graded no matter how many questions there are \n",
    "\n",
    "#prime read\n",
    "student_record = exam1_input_file.readline().rstrip('\\n') #Read in first set of student answers\n",
    "\n",
    "while student_record != '': #Iterate while data is still present\n",
    "    \n",
    "   \n",
    "    right_answers = 0 #Counter\n",
    "    wrong_answers = 0 #Counter\n",
    "   \n",
    "    #INPUT\n",
    "    \n",
    "    student_record1 = student_record.split(',')  #Split data and get student name\n",
    "    student_name = student_record1[0]\n",
    "\n",
    "    #PROCESSING\n",
    "    \n",
    "    for x in range(0,QUESTION_COUNT): #Iterate through answer key and student answers and compare to count correct answers\n",
    "        if answer_key[x] == student_record1[x+1]: #Offset student_record by 1 because student_record[0] is student's name\n",
    "            right_answers += 1\n",
    "        else:\n",
    "            wrong_answers += 1\n",
    "    \n",
    "    student_grade = round(right_answers*100 / QUESTION_COUNT) #Compute grade\n",
    "    print(student_grade)\n",
    "    \n",
    "    if student_grade > PASS_GRADE: #Determine if student passed or failed\n",
    "        exam_result = 'Pass'\n",
    "    else:\n",
    "        exam_result = 'Fail'\n",
    "\n",
    "        \n",
    "        \n",
    "    #student record to write to output data file \n",
    "    student_record = (f'{student_name},{right_answers},{wrong_answers},{student_grade},{exam_result}\\n')\n",
    "    \n",
    "    #OUTPUT\n",
    "    \n",
    "    exam2_output_file.write(student_record) #writes processed record into output file\n",
    "\n",
    "    student_record = exam1_input_file.readline().rstrip('\\n') #Read in next record \n",
    "\n",
    "#FINALIZATION\n",
    "    \n",
    "exam1_input_file.close() #Close program and print end of program message \n",
    "exam2_output_file.close()\n",
    "print(f\"End of program.\")"
   ]
  },
  {
   "cell_type": "code",
   "execution_count": null,
   "metadata": {},
   "outputs": [],
   "source": [
    "# Your code was duplicated here by Dr. Mehta for testing and grading purposes: \n",
    "\n",
    "# ----------------------------------------------------------------------------------------------------------\n",
    "# Please do not change the following three statements. If you are using a windows computer, you may         |\n",
    "# comment out the FILE_PATH Statement provided below and define your FILE_PATH for windows computer. Make   | \n",
    "# sure that you uncomment the FILE_PATH statement that I have provided and comment out your file path       |\n",
    "# BEFORE you submit your examination.                                                                       |\n",
    "#                                                                                                           |\n",
    "# You should not alter or change the two file open statements in any way.                                   |\n",
    "# ----------------------------------------------------------------------------------------------------------|\n",
    "\n",
    "#INITIALIZATION \n",
    "\n",
    "FILE_PATH = '/users/cis5357/exams/'\n",
    "\n",
    "exam1_input_file = open(FILE_PATH + 'exam1-input.csv', 'r')\n",
    "exam2_output_file = open(FILE_PATH + 'exam1-output.csv', 'w')"
   ]
  }
 ],
 "metadata": {
  "kernelspec": {
   "display_name": "Python 3",
   "language": "python",
   "name": "python3"
  },
  "language_info": {
   "codemirror_mode": {
    "name": "ipython",
    "version": 3
   },
   "file_extension": ".py",
   "mimetype": "text/x-python",
   "name": "python",
   "nbconvert_exporter": "python",
   "pygments_lexer": "ipython3",
   "version": "3.8.11"
  }
 },
 "nbformat": 4,
 "nbformat_minor": 4
}
