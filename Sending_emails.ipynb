{
 "cells": [
  {
   "cell_type": "code",
   "execution_count": null,
   "id": "3b8fef8d-54ab-449a-9124-3c51ff348922",
   "metadata": {},
   "outputs": [],
   "source": [
    "!pip install yagmail"
   ]
  },
  {
   "cell_type": "code",
   "execution_count": null,
   "id": "8d9eeea0-021d-4e62-8779-0be0c0756469",
   "metadata": {},
   "outputs": [],
   "source": [
    "import yagmail\n",
    "import csv\n",
    "import pandas as pd \n"
   ]
  },
  {
   "cell_type": "code",
   "execution_count": null,
   "id": "f7e24389-e5ef-4c32-8591-b7fba78d2e59",
   "metadata": {},
   "outputs": [],
   "source": [
    "import smtplib, ssl\n",
    "from email.message import EmailMessage\n",
    "import imghdr\n",
    "\n",
    "%cd \"C:\\Users\\DevinTheDude\\Pictures\\\"\n",
    "\n",
    "smtp_server = 'smtp.gmail.com'\n",
    "port = 465\n",
    "\n",
    "sender = 'devin.mcmurrey@cityinnovationlabs.com'\n",
    "password = input('password:')\n",
    "\n",
    "msg = EmailMessage()\n",
    "msg['Subject'] = 'Check out Kam at 3 months old!'\n",
    "msg['From'] = sender\n",
    "msg['To'] = 'abby.beard95@gmail.com'\n",
    "msg.set_content('Image attached...')\n",
    "\n",
    "with open('kam_1.JPG','rb') as f:\n",
    "    file_data = f.read()\n",
    "    file_type = imghdr.what(f.name)\n",
    "    file_name= f.name\n",
    "    \n",
    "msg.add_attachment(file_data, maintype='image', subtype= file_type, filename= file_name)\n",
    "    \n",
    "with smtplib.SMTP_SSL(smtp_server, port) as smtp: \n",
    "    smtp.login(sender, password)\n",
    "    smtp.send_message(msg)\n",
    "    print('it worked')\n",
    "    "
   ]
  },
  {
   "cell_type": "markdown",
   "id": "67d107e4-1321-4308-b7f4-d499c39288a3",
   "metadata": {},
   "source": [
    "## above cell sends email with one attachment, needs to be image though\n"
   ]
  },
  {
   "cell_type": "code",
   "execution_count": null,
   "id": "b869021e-2249-418d-ab07-0bb2b4a7f473",
   "metadata": {},
   "outputs": [],
   "source": [
    "import smtplib, ssl\n",
    "from email.message import EmailMessage\n",
    "import imghdr\n",
    "\n",
    "%cd \"C:\\Users\\DevinTheDude\\Pictures\\\"\n",
    "\n",
    "smtp_server = 'smtp.gmail.com'\n",
    "port = 465\n",
    "\n",
    "sender = 'devin.mcmurrey@cityinnovationlabs.com'\n",
    "password = input('password:')\n",
    "\n",
    "msg = EmailMessage()\n",
    "msg['Subject'] = 'Check out Kam at 3 months old!'\n",
    "msg['From'] = sender\n",
    "msg['To'] = 'keri.sanders@cityinnovationlabs.com'\n",
    "msg.set_content('I sent this with code I wrote in python. Next step is learning how to loop through a CSV .')\n",
    "\n",
    "files = ['kam_1.jpg','kam_2.jpg']\n",
    "\n",
    "for file in files:\n",
    "    with open(file,'rb') as f:\n",
    "        file_data = f.read()\n",
    "        file_type = imghdr.what(f.name)\n",
    "        file_name= f.name\n",
    "    \n",
    "    msg.add_attachment(file_data, maintype='image', subtype= file_type, filename= file_name)\n",
    "    \n",
    "with smtplib.SMTP_SSL(smtp_server, port) as smtp: \n",
    "    smtp.login(sender, password)\n",
    "    smtp.send_message(msg)\n",
    "    print('it worked')\n",
    "    "
   ]
  },
  {
   "cell_type": "markdown",
   "id": "5705ef38-177f-4bbc-bdf4-7db4d8e72819",
   "metadata": {},
   "source": [
    "## above code sends 2 attachemetns so long as they are jpgs , next code will just send normal files "
   ]
  },
  {
   "cell_type": "code",
   "execution_count": null,
   "id": "cd9dd945-7c5b-4890-b2e8-c49d5f92ca40",
   "metadata": {},
   "outputs": [],
   "source": [
    "import smtplib, ssl\n",
    "from email.message import EmailMessage\n",
    "import imghdr\n",
    "\n",
    "%cd \"C:\\Users\\DevinTheDude\\Desktop\\\"\n",
    "\n",
    "smtp_server = 'smtp.gmail.com'\n",
    "port = 465\n",
    "\n",
    "sender = 'devin.mcmurrey@cityinnovationlabs.com'\n",
    "password = input('password:')\n",
    "\n",
    "msg = EmailMessage()\n",
    "msg['Subject'] = 'Check out Kam at 3 months old!'\n",
    "msg['From'] = sender\n",
    "msg['To'] = 'tommy@ivyKode.com'\n",
    "msg.set_content('I sent this with code I wrote in python!! Next step is learning how to loop through a CSV but to still send a customized message. Still cant even begin to say how thankful I am for everything you taught me !!!')\n",
    "\n",
    "files = ['Devin_McMurrey_Resume.docx']\n",
    "\n",
    "for file in files:\n",
    "    with open(file,'rb') as f:\n",
    "        file_data = f.read()\n",
    "        \n",
    "        file_name= f.name\n",
    "    \n",
    "    msg.add_attachment(file_data, maintype='application', subtype= 'octet-stream', filename= file_name)\n",
    "    \n",
    "with smtplib.SMTP_SSL(smtp_server, port) as smtp: \n",
    "    smtp.login(sender, password)\n",
    "    smtp.send_message(msg)\n",
    "    print('it worked')\n",
    "    "
   ]
  },
  {
   "cell_type": "markdown",
   "id": "4dadf9d8-8f36-4b96-aa54-4b10deaa281b",
   "metadata": {},
   "source": [
    "## above shows how to send just general documents like docx or pdf \n"
   ]
  },
  {
   "cell_type": "markdown",
   "id": "30ec5857-45a7-4821-b769-31c67fbc1f17",
   "metadata": {},
   "source": [
    "## how to send multiple contacts the email with attachements (below)"
   ]
  },
  {
   "cell_type": "code",
   "execution_count": null,
   "id": "9cf15ec4-4e7a-4d2a-83fa-b967eced335c",
   "metadata": {},
   "outputs": [],
   "source": [
    "import smtplib, ssl\n",
    "from email.message import EmailMessage\n",
    "import imghdr\n",
    "\n",
    "%cd \"C:\\Users\\DevinTheDude\\Desktop\\\"\n",
    "\n",
    "smtp_server = 'smtp.gmail.com'\n",
    "port = 465\n",
    "\n",
    "sender = 'devin.mcmurrey@cityinnovationlabs.com'\n",
    "password = input('password:')\n",
    "\n",
    "contacts = ['devin.mcmurrey@gmail.com', 'djdyelon630@gmail.com']\n",
    "\n",
    "msg = EmailMessage()\n",
    "msg['Subject'] = 'Testing!'\n",
    "msg['From'] = sender\n",
    "msg['To'] = contacts\n",
    "msg.set_content('I sent this with code I wrote in python!! Next step is learning how to loop through a CSV but to still send a customized message. Still cant even begin to say how thankful I am for everything you taught me !!!')\n",
    "\n",
    "files = ['Devin_McMurrey_Resume.docx']\n",
    "\n",
    "for file in files:\n",
    "    with open(file,'rb') as f:\n",
    "        file_data = f.read()\n",
    "        \n",
    "        file_name= f.name\n",
    "    \n",
    "    msg.add_attachment(file_data, maintype='application', subtype= 'octet-stream', filename= file_name)\n",
    "    \n",
    "with smtplib.SMTP_SSL(smtp_server, port) as smtp: \n",
    "    smtp.login(sender, password)\n",
    "    smtp.send_message(msg)\n",
    "    print('it worked')"
   ]
  },
  {
   "cell_type": "markdown",
   "id": "1f4e3f49-6674-416b-a6fc-4c496f4b06c1",
   "metadata": {},
   "source": [
    "## how to read csv and send email to multiple receipients but it still be customizeable  "
   ]
  },
  {
   "cell_type": "code",
   "execution_count": null,
   "id": "672b1bf4-7541-4d3c-8105-4af0d20d5ed1",
   "metadata": {},
   "outputs": [],
   "source": [
    "%cd \"C:\\CIL\\CSV\\\"\n",
    "import csv\n",
    "import smtplib\n",
    "from email.mime.text import MIMEText\n",
    "from email.mime.multipart import MIMEMultipart\n",
    "from email.mime.base import MIMEBase\n",
    "from email import encoders\n",
    "\n",
    "\n",
    "\n",
    "sender = 'devin.mcmurrey@cityinnovationlabs.com'\n",
    "password = input('password:')\n",
    "\n",
    "subject = \"Python code for customized email blast Test 1!! lets go!!\"\n",
    "\n",
    "with open(\"test_emails.csv\",'r') as csvfile:\n",
    "    reader=csv.reader(csvfile)\n",
    "    for line in reader:\n",
    "        text = \"hello \" +line[0]+\" I actually wrote this email with a Python program. I'm hoping to use this code to send out massive chains of customized emails to prospects going forward. I Hope you're as excited as I am.\"\n",
    "        #print(text)\n",
    "        send_email = line[1]\n",
    "        msg = MIMEMultipart() \n",
    "        msg['From'] = sender\n",
    "        msg['To'] = send_email\n",
    "        msg['Subject'] = subject\n",
    "        msg.attach(MIMEText(text,\"plain\"))\n",
    "        text = msg.as_string()\n",
    "        \n",
    "        server= smtplib.SMTP_SSL(\"smtp.gmail.com\",465)\n",
    "        server.login(sender, password)\n",
    "        server.sendmail(sender, send_email, text)\n",
    "        server.quit()\n",
    "        print(\"it worked\")\n"
   ]
  },
  {
   "cell_type": "code",
   "execution_count": null,
   "id": "14bbe865-e791-4551-ac91-53a15a38d79a",
   "metadata": {},
   "outputs": [],
   "source": []
  },
  {
   "cell_type": "code",
   "execution_count": null,
   "id": "4377b8f2-8e25-4b06-ac95-4fe32ba7bd70",
   "metadata": {},
   "outputs": [],
   "source": []
  },
  {
   "cell_type": "code",
   "execution_count": null,
   "id": "1728f4f2-a93e-45f9-a273-d6dd6a40e11a",
   "metadata": {},
   "outputs": [],
   "source": []
  }
 ],
 "metadata": {
  "kernelspec": {
   "display_name": "Python 3",
   "language": "python",
   "name": "python3"
  },
  "language_info": {
   "codemirror_mode": {
    "name": "ipython",
    "version": 3
   },
   "file_extension": ".py",
   "mimetype": "text/x-python",
   "name": "python",
   "nbconvert_exporter": "python",
   "pygments_lexer": "ipython3",
   "version": "3.8.11"
  }
 },
 "nbformat": 4,
 "nbformat_minor": 5
}
