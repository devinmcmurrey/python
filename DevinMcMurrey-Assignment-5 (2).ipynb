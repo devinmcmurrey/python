{
 "cells": [
  {
   "cell_type": "markdown",
   "metadata": {},
   "source": [
    "### NAME: Devin\n",
    "### DATE: 10/10/21\n",
    "\n",
    "<font color='red'>\n",
    "    \n",
    "### GRADE:\n",
    "</font>"
   ]
  },
  {
   "cell_type": "markdown",
   "metadata": {},
   "source": [
    "<font color = 'blue'>\n",
    "    \n",
    "### GRADING COMMENTS:\n",
    "    \n",
    "<font size = 1>\n",
    "\n",
    "1. \n",
    "    \n",
    "</font>\n",
    "</font>\n"
   ]
  },
  {
   "cell_type": "markdown",
   "metadata": {},
   "source": [
    "### Program Name : Modularized BMI Calculator"
   ]
  },
  {
   "cell_type": "markdown",
   "metadata": {},
   "source": [
    "### Program Objective: Modularize and transform the design of the BMI calculator progam created previously for the client.  \n",
    "\n",
    "<font size = 1>\n",
    "    \n",
    "\n",
    "    \n",
    "</font>"
   ]
  },
  {
   "cell_type": "code",
   "execution_count": 9,
   "metadata": {},
   "outputs": [],
   "source": [
    "# Your program code should begin in this cell, starting on line 3\n",
    "\n",
    "def open_files():\n",
    "    \"\"\"Open the files we will be retreiving and processing information too\"\"\"\n",
    "    \n",
    "    FILE_PATH = \"C:\\CIS5357\\Assignments\"\n",
    "    trainee_input_file = open(FILE_PATH +  '\\Trainee-Data.csv', 'r')\n",
    "    bmi_output_file = open(FILE_PATH +  '\\BMI-Data.csv', 'w')\n",
    "    \n",
    "    return trainee_input_file, bmi_output_file\n"
   ]
  },
  {
   "cell_type": "code",
   "execution_count": 11,
   "metadata": {},
   "outputs": [],
   "source": [
    "def get_trainee_record(trainee_input_file):\n",
    "    \"\"\"Retrieve Record and return to the main function\"\"\"\n",
    "   \n",
    "    trainee_record = trainee_input_file.readline().rstrip('\\n') #reads entire line from input file Trainee-Data.csv\n",
    "    \n",
    "    return trainee_record"
   ]
  },
  {
   "cell_type": "code",
   "execution_count": 12,
   "metadata": {},
   "outputs": [],
   "source": [
    "def print_headers():\n",
    "    \"\"\"Print headers for console output\"\"\"\n",
    "    \n",
    "    print(f\"\\nThe Current Status of Weight-Loss Training\")\n",
    "    print(f\"{55*'-'}\")\n",
    "    print(f\"Name\\tGender\\tWeight\\tHeight\\tBMI\\tWeight-Status\")\n",
    "    print(f\"{55*'-'}\")"
   ]
  },
  {
   "cell_type": "code",
   "execution_count": 13,
   "metadata": {},
   "outputs": [],
   "source": [
    "def process_trainee_record(trainee_record):\n",
    "    \"\"\"Receives all variables needed and assembles BMI record string\"\"\"\n",
    "   \n",
    "    trainee_record_1 = trainee_record.split(',') #breaks down line read into individual parts \n",
    "    trainee_name = trainee_record_1[0]\n",
    "    trainee_weight = float(trainee_record_1[1])\n",
    "    trainee_height = float(trainee_record_1[2]) \n",
    "    trainee_gender = trainee_record_1[3]\n",
    "        \n",
    "    bmi, bmi_round = calculate_bmi(trainee_weight, trainee_height)\n",
    "        \n",
    "    weight_status = determine_status(bmi_round)     \n",
    "        \n",
    "    return trainee_name, trainee_gender, trainee_weight, trainee_height, bmi, bmi_round, weight_status"
   ]
  },
  {
   "cell_type": "code",
   "execution_count": 14,
   "metadata": {},
   "outputs": [],
   "source": [
    "def calculate_bmi(trainee_weight, trainee_height):\n",
    "    \"\"\"Calculate BMI\"\"\"\n",
    "    bmi = trainee_weight*(703/(trainee_height**2)) \n",
    "    bmi_round = round(bmi,1)\n",
    "    return bmi, bmi_round"
   ]
  },
  {
   "cell_type": "code",
   "execution_count": 15,
   "metadata": {},
   "outputs": [],
   "source": [
    "def determine_status(bmi_round): ## capitalize constants \n",
    "    \n",
    "    MIN_FOR_OPTIMALWEIGHT = 18.5\n",
    "    MIN_FOR_OVERWEIGHT = 25.0\n",
    "    MIN_FOR_OBESE = 30.0\n",
    "    \n",
    "    if bmi_round >= MIN_FOR_OBESE:\n",
    "        weight_status = 'Obese'\n",
    "    elif bmi_round >= MIN_FOR_OVERWEIGHT: \n",
    "        weight_status = 'Overweight'\n",
    "    elif bmi_round >= MIN_FOR_OPTIMALWEIGHT:\n",
    "        weight_status = 'Optimal Weight'\n",
    "    else:\n",
    "        weight_status = 'Underweight'\n",
    "        \n",
    "    return weight_status"
   ]
  },
  {
   "cell_type": "code",
   "execution_count": 32,
   "metadata": {},
   "outputs": [],
   "source": [
    "def display_and_write_output(trainee_name, trainee_gender, trainee_weight, trainee_height, bmi, bmi_round, weight_status, bmi_output_file):\n",
    "    \"\"\"Accepts variables needed to assemble record strings for ouput and console display\"\"\"\n",
    "    #concatenate trainee record and write an ouput file with f-string formating to embed values \n",
    "    \n",
    "    \n",
    "    write_bmi_record(trainee_name, trainee_gender, trainee_weight, trainee_height, bmi, weight_status, bmi_output_file)\n",
    "    \n",
    "    display_bmi_record(trainee_name, trainee_gender, trainee_weight, trainee_height, bmi_round, weight_status)\n",
    "    \n",
    "    \n",
    "   "
   ]
  },
  {
   "cell_type": "code",
   "execution_count": 29,
   "metadata": {},
   "outputs": [],
   "source": [
    "def write_bmi_record(trainee_name, trainee_gender, trainee_weight, trainee_height, bmi, weight_status, bmi_output_file):\n",
    "    \"\"\"creates record and writes it to new file \"\"\"\n",
    "    \n",
    "    bmi_record_out = (f'{trainee_name},{trainee_gender},{trainee_weight},{trainee_height},{bmi},{weight_status}\\n')\n",
    "    \n",
    "    bmi_output_file.write(bmi_record_out) #writes process record into output file \n",
    "    \n",
    "    "
   ]
  },
  {
   "cell_type": "code",
   "execution_count": 18,
   "metadata": {},
   "outputs": [],
   "source": [
    "def display_bmi_record(trainee_name, trainee_gender, trainee_weight, trainee_height, bmi_round, weight_status): \n",
    "    \"\"\"will display record in console\"\"\"\n",
    "    \n",
    "    print(f\"{trainee_name:<1}\\t{trainee_gender:<1}\\t{trainee_weight:>5.1f}\\t{trainee_height:>5.1f}\\t{bmi_round:>5.1f}\\t{weight_status:<1}\")"
   ]
  },
  {
   "cell_type": "code",
   "execution_count": 19,
   "metadata": {},
   "outputs": [],
   "source": [
    "def close_files(trainee_input_file, bmi_output_file):\n",
    "    \"\"\"close files\"\"\"\n",
    "\n",
    "    trainee_input_file.close()\n",
    "    bmi_output_file.close()"
   ]
  },
  {
   "cell_type": "code",
   "execution_count": 20,
   "metadata": {},
   "outputs": [],
   "source": [
    "def print_footer(num_of_trainees, num_of_bmi_recs):\n",
    "    \"\"\"accepts and counts trainee and bmi records and displays message to console\"\"\"\n",
    "    \n",
    "    print(f'\\n\\nProgam processed {num_of_trainees} trainee records from Trainee-Data.csv file.')\n",
    "    print(f'{num_of_bmi_recs} records were written to the BMI-Data.csv file')"
   ]
  },
  {
   "cell_type": "code",
   "execution_count": 33,
   "metadata": {},
   "outputs": [],
   "source": [
    "def main():\n",
    "    \"\"\"The main program that drives the logic of the entire program\"\"\"\n",
    "    \n",
    "    #Initialization\n",
    "    \n",
    "    num_of_trainees = 0 \n",
    "    num_of_bmi_recs = 0 \n",
    "    \n",
    "    trainee_input_file, bmi_output_file = open_files()\n",
    "    trainee_record = get_trainee_record(trainee_input_file) \n",
    "    print_headers()\n",
    "\n",
    "    while trainee_record != '':\n",
    "\n",
    "        num_of_trainees += 1\n",
    "        \n",
    "        trainee_name, trainee_gender, trainee_weight, trainee_height, bmi, bmi_round, weight_status = process_trainee_record(trainee_record)\n",
    "        \n",
    "        display_and_write_output(trainee_name, trainee_gender, trainee_weight, trainee_height, bmi, bmi_round, weight_status, bmi_output_file)\n",
    "    \n",
    "        num_of_bmi_recs += 1\n",
    "    \n",
    "        trainee_record = get_trainee_record(trainee_input_file)\n",
    "    \n",
    "    close_files(trainee_input_file, bmi_output_file)\n",
    "    print_footer(num_of_trainees, num_of_bmi_recs)\n",
    "   "
   ]
  },
  {
   "cell_type": "code",
   "execution_count": 34,
   "metadata": {},
   "outputs": [
    {
     "name": "stdout",
     "output_type": "stream",
     "text": [
      "\n",
      "The Current Status of Weight-Loss Training\n",
      "-------------------------------------------------------\n",
      "Name\tGender\tWeight\tHeight\tBMI\tWeight-Status\n",
      "-------------------------------------------------------\n",
      "Avi\tMale\t105.0\t 58.0\t 21.9\tOptimal Weight\n",
      "Tanya\tFemale\t 99.5\t 59.7\t 19.6\tOptimal Weight\n",
      "Axel\tMale\t135.0\t 72.0\t 18.3\tUnderweight\n",
      "Karla\tFemale\t142.2\t 60.0\t 27.8\tOverweight\n",
      "Andre\tMale\t144.3\t 62.5\t 26.0\tOverweight\n",
      "Callum\tMale\t184.0\t 64.0\t 31.6\tObese\n",
      "Mykayla\tFemale\t108.0\t 62.0\t 19.8\tOptimal Weight\n",
      "\n",
      "\n",
      "Progam processed 7 trainee records from Trainee-Data.csv file.\n",
      "7 records were written to the BMI-Data.csv file\n"
     ]
    }
   ],
   "source": [
    "main()"
   ]
  }
 ],
 "metadata": {
  "kernelspec": {
   "display_name": "Python 3",
   "language": "python",
   "name": "python3"
  },
  "language_info": {
   "codemirror_mode": {
    "name": "ipython",
    "version": 3
   },
   "file_extension": ".py",
   "mimetype": "text/x-python",
   "name": "python",
   "nbconvert_exporter": "python",
   "pygments_lexer": "ipython3",
   "version": "3.8.11"
  }
 },
 "nbformat": 4,
 "nbformat_minor": 4
}
