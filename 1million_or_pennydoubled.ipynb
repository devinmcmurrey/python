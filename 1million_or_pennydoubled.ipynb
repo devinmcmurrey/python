{
 "cells": [
  {
   "cell_type": "markdown",
   "id": "288a3fdd-6d66-4538-a10c-94414b03b92f",
   "metadata": {},
   "source": [
    "I keep seeing people on facebook ask if you would take 1,000,000 or a penny doubled every day. \n",
    "I started doing the math in my head then figured, why not write a simple program to answer the question. "
   ]
  },
  {
   "cell_type": "markdown",
   "id": "254bf616-0eff-40d9-ba2e-cfe91db9cf9c",
   "metadata": {},
   "source": [
    "Step 1: figure out how to structure the loop to print the range I want and perform light weight version of function"
   ]
  },
  {
   "cell_type": "code",
   "execution_count": 52,
   "id": "56a605d8-edd5-4e56-92c2-1e37e79ececf",
   "metadata": {},
   "outputs": [
    {
     "name": "stdout",
     "output_type": "stream",
     "text": [
      "0.0\n",
      "0.01\n",
      "0.02\n",
      "0.03\n",
      "0.04\n"
     ]
    }
   ],
   "source": [
    "for i in range(5):\n",
    "        print(i*.01)\n",
    "        if i * 2 == 0:\n",
    "            continue \n",
    "        "
   ]
  },
  {
   "cell_type": "markdown",
   "id": "eb6229f0-e6d7-4a53-9c42-34562b5accae",
   "metadata": {},
   "source": [
    "set variables and craft logic : goal to dispaly values for each day and calulate running total of money collected. \n",
    "show in table form "
   ]
  },
  {
   "cell_type": "code",
   "execution_count": 50,
   "id": "2d8e5bfd-f124-4d16-97bb-885e37347eed",
   "metadata": {},
   "outputs": [
    {
     "name": "stdout",
     "output_type": "stream",
     "text": [
      "day:2       Amount:  $0.04            money total:  $0.06        \n",
      "day:3       Amount:  $0.08            money total:  $0.14        \n",
      "day:4       Amount:  $0.16            money total:  $0.30        \n",
      "day:5       Amount:  $0.32            money total:  $0.62        \n",
      "day:6       Amount:  $0.64            money total:  $1.26        \n",
      "day:7       Amount:  $1.28            money total:  $2.54        \n",
      "day:8       Amount:  $2.56            money total:  $5.10        \n",
      "day:9       Amount:  $5.12            money total:  $10.22       \n",
      "day:10      Amount:  $10.24           money total:  $20.46       \n",
      "day:11      Amount:  $20.48           money total:  $40.94       \n",
      "day:12      Amount:  $40.96           money total:  $81.90       \n",
      "day:13      Amount:  $81.92           money total:  $163.82      \n",
      "day:14      Amount:  $163.84          money total:  $327.66      \n",
      "day:15      Amount:  $327.68          money total:  $655.34      \n",
      "day:16      Amount:  $655.36          money total:  $1,310.70    \n",
      "day:17      Amount:  $1,310.72        money total:  $2,621.42    \n",
      "day:18      Amount:  $2,621.44        money total:  $5,242.86    \n",
      "day:19      Amount:  $5,242.88        money total:  $10,485.74   \n",
      "day:20      Amount:  $10,485.76       money total:  $20,971.50   \n",
      "day:21      Amount:  $20,971.52       money total:  $41,943.02   \n",
      "day:22      Amount:  $41,943.04       money total:  $83,886.06   \n",
      "day:23      Amount:  $83,886.08       money total:  $167,772.14  \n",
      "day:24      Amount:  $167,772.16      money total:  $335,544.30  \n",
      "day:25      Amount:  $335,544.32      money total:  $671,088.62  \n",
      "day:26      Amount:  $671,088.64      money total:  $1,342,177.26\n",
      "day:27      Amount:  $1,342,177.28    money total:  $2,684,354.54\n",
      "day:28      Amount:  $2,684,354.56    money total:  $5,368,709.10\n",
      "day:29      Amount:  $5,368,709.12    money total:  $10,737,418.22\n",
      "day:30      Amount:  $10,737,418.24   money total:  $21,474,836.46\n"
     ]
    }
   ],
   "source": [
    "money, gift, day = 0, .01, 0\n",
    "\n",
    "for i in range(30):\n",
    "    gift *= 2\n",
    "    day += 1\n",
    "    money +=gift\n",
    "    if i*1== 0:\n",
    "        continue\n",
    "    print(f'day:{day:<3}     Amount:  ${gift:<15,.2f} money total:  ${money:<12,.2f}')"
   ]
  },
  {
   "cell_type": "code",
   "execution_count": 18,
   "id": "8d6bc368-8979-47d0-8111-5929ea23d47a",
   "metadata": {},
   "outputs": [
    {
     "name": "stdout",
     "output_type": "stream",
     "text": [
      "On day 27, your gift of $671,088.64 will bring your total to $1,342,177.27.\n"
     ]
    }
   ],
   "source": [
    "#show when you cross the 1 million threshold only\n",
    "money, gift, day = 0, 0.01, 1\n",
    "while True:\n",
    "    money += gift\n",
    "    if money >= 1000000:\n",
    "        break\n",
    "    gift *= 2\n",
    "    day += 1\n",
    "\n",
    "print(f\"On day {day}, your gift of ${gift:,} will bring your total to ${money:,}.\")"
   ]
  },
  {
   "cell_type": "code",
   "execution_count": null,
   "id": "31adaaaf-fa5e-4824-b820-562d08d78ac2",
   "metadata": {},
   "outputs": [],
   "source": []
  }
 ],
 "metadata": {
  "kernelspec": {
   "display_name": "Python 3",
   "language": "python",
   "name": "python3"
  },
  "language_info": {
   "codemirror_mode": {
    "name": "ipython",
    "version": 3
   },
   "file_extension": ".py",
   "mimetype": "text/x-python",
   "name": "python",
   "nbconvert_exporter": "python",
   "pygments_lexer": "ipython3",
   "version": "3.8.11"
  }
 },
 "nbformat": 4,
 "nbformat_minor": 5
}
