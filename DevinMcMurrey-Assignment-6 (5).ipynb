{
 "cells": [
  {
   "cell_type": "markdown",
   "metadata": {},
   "source": [
    "### NAME: Devin McMurrey\n",
    "### DATE: 10/24/2021\n",
    "\n",
    "<font color='red'>\n",
    "    \n",
    "### GRADE:\n",
    "</font>"
   ]
  },
  {
   "cell_type": "markdown",
   "metadata": {},
   "source": [
    "<font color = 'blue'>\n",
    "    \n",
    "### GRADING COMMENTS: <font color='red'>()</font>\n",
    "    \n",
    "<font size = 2>\n",
    "\n",
    "<ol>\n",
    "    <li></li>\n",
    "</ol>\n",
    "    \n",
    "</font>\n",
    "</font>\n"
   ]
  },
  {
   "cell_type": "markdown",
   "metadata": {},
   "source": [
    "### Program Name : Assignment # 6"
   ]
  },
  {
   "cell_type": "code",
   "execution_count": 17,
   "metadata": {},
   "outputs": [],
   "source": [
    "def read_files():\n",
    "    '''Should open and read data from input files, extract and then return the the data items from the records'''\n",
    "    #initializatoin\n",
    "    FILE_PATH = '/users/cis5357/Assignments/'   #\"C:\\CIS5357\\Assignments\"\n",
    "    valid_charge_acc_input = open(FILE_PATH + 'ValidChargeAccounts.csv', 'r')\n",
    "    transactions_input = open(FILE_PATH + 'Transactions.csv', 'r')\n",
    "    \n",
    "    #input - read statments in one bulk read & strip off newline character with\\n\n",
    "    valid_charge_data = valid_charge_acc_input.read().split('\\n')\n",
    "    transactions_data = transactions_input.read().split('\\n')\n",
    "    \n",
    "    #Process Populate data structures with repsctive data\n",
    "    NUM_OF_VALID_CHARGE_ACC = len(valid_charge_data) # extrats number of valid charge accounts and converts to integer - unchanging\n",
    "    NUM_VALCHARGE_LIST = map(int, valid_charge_data[0::])\n",
    "    VAL_ACC_NUMBERS = list(NUM_VALCHARGE_LIST)\n",
    "    \n",
    "    num_of_transactions = len(transactions_data)\n",
    "    transactions_list = map(int, transactions_data[0::])\n",
    "    transaction_numbers =  list(transactions_list) #account numbers run in transaction\n",
    "    \n",
    "    \n",
    "    valid_charge_acc_input.close()\n",
    "    transactions_input.close()\n",
    "     \n",
    "    \n",
    "    #output\n",
    "    return VAL_ACC_NUMBERS, transaction_numbers\n",
    "    "
   ]
  },
  {
   "cell_type": "code",
   "execution_count": 18,
   "metadata": {},
   "outputs": [],
   "source": [
    "def process_charge_accounts(VAL_ACC_NUMBERS, transaction_numbers):\n",
    "    '''Takes in data structures populated in read files funciton and returns two new data structures'''\n",
    "    #initializatoin\n",
    "    valid_transactions = []\n",
    "    fraudulent_transactions = []\n",
    "    \n",
    "    #process\n",
    "    for acc_numbers in transaction_numbers:\n",
    "        if acc_numbers not in VAL_ACC_NUMBERS:\n",
    "            fraudulent_transactions.append(acc_numbers)      \n",
    "        else:\n",
    "            valid_transactions.append(acc_numbers)\n",
    "        \n",
    "    return valid_transactions, fraudulent_transactions\n",
    "        \n"
   ]
  },
  {
   "cell_type": "code",
   "execution_count": 19,
   "metadata": {},
   "outputs": [],
   "source": [
    "def write_to_files(valid_transactions, fraudulent_transactions):\n",
    "    '''writes the contesnts of the data strucutre containing gross pay values to a csv file. '''\n",
    "    \n",
    "    #initialization\n",
    "    FILE_PATH = \"C:\\CIS5357\\Assignments\"\n",
    "    valid_transaction_output = open(FILE_PATH + '\\ValidTransactions.csv', 'w')\n",
    "    fraudulent_transaction_output = open(FILE_PATH + '\\FraudulentTransactions.csv', 'w')\n",
    "    \n",
    "   \n",
    "    \n",
    "    mapped_valid_transactions = map(str,valid_transactions)\n",
    "    mapped_fraudulent_transactions = map(str,fraudulent_transactions)\n",
    "  \n",
    "   \n",
    "    #convert mapped object to list \n",
    "    \n",
    "    valid_transactions_str = list(mapped_valid_transactions)\n",
    "    fraudulent_transactions_str = list(mapped_fraudulent_transactions)\n",
    "    \n",
    "    \n",
    "    \n",
    "    valid_transactions_str.sort()\n",
    "    fraudulent_transactions_str.sort()\n",
    "    \n",
    "    \n",
    "   \n",
    "    valid_transaction_output.write('\\n' .join(valid_transactions_str))\n",
    "    \n",
    "    fraudulent_transaction_output.write('\\n' .join(fraudulent_transactions_str))\n",
    "    \n",
    "    valid_transaction_output.close()\n",
    "    fraudulent_transaction_output.close()"
   ]
  },
  {
   "cell_type": "code",
   "execution_count": 20,
   "metadata": {},
   "outputs": [],
   "source": [
    "def calculate_summary_stats(VAL_ACC_NUMBERS, transaction_numbers, valid_transactions, fraudulent_transactions):\n",
    "    '''returns counts of object legnths'''\n",
    "    \n",
    "    NUM_OF_VALID_ACC = len(VAL_ACC_NUMBERS)\n",
    "    num_of_transactions = len(transaction_numbers)\n",
    "    num_of_valid_transactions = len(valid_transactions)\n",
    "    num_fraud_transactions = len(fraudulent_transactions)\n",
    "    \n",
    "    return NUM_OF_VALID_ACC, num_of_transactions, num_of_valid_transactions, num_fraud_transactions \n",
    "    \n",
    "    "
   ]
  },
  {
   "cell_type": "code",
   "execution_count": 21,
   "metadata": {},
   "outputs": [],
   "source": [
    "def end_of_program(NUM_OF_VALID_ACC, num_of_transactions, num_of_valid_transactions, num_fraud_transactions):\n",
    "    '''Void function that prints results of calculate_summary_stats'''\n",
    "    \n",
    "    print(f'Number of Transactions Processed\\t=\\t{num_of_transactions}')\n",
    "    print(f'Number of Valid Accounts\\t\\t=\\t{NUM_OF_VALID_ACC}')\n",
    "    print(f'Number of valid Transactions\\t\\t=\\t{num_of_valid_transactions}')\n",
    "    print(f'Number of Fraudulent Transactions\\t=\\t{num_fraud_transactions}')\n",
    "    "
   ]
  },
  {
   "cell_type": "code",
   "execution_count": 22,
   "metadata": {},
   "outputs": [],
   "source": [
    "def main():\n",
    "    '''invokes the 5 functions, receives the data strucutres they return and sends data items to other functions'''\n",
    "    \n",
    "    #Input\n",
    "    VAL_ACC_NUMBERS, transaction_numbers = read_files()\n",
    "    \n",
    "    #Process\n",
    "    valid_transactions, fraudulent_transactions = process_charge_accounts(VAL_ACC_NUMBERS, transaction_numbers)\n",
    "    \n",
    "    #output\n",
    "    write_to_files(valid_transactions, fraudulent_transactions)\n",
    "    NUM_OF_VALID_ACC, num_of_transactions, num_of_valid_transactions, num_fraud_transactions = calculate_summary_stats(VAL_ACC_NUMBERS, transaction_numbers, valid_transactions, fraudulent_transactions)\n",
    "    end_of_program(NUM_OF_VALID_ACC, num_of_transactions, num_of_valid_transactions, num_fraud_transactions)\n",
    "    \n",
    "    #finalization\n",
    "    print('\\nThe Program has calculated the totals and ended successfully')"
   ]
  },
  {
   "cell_type": "code",
   "execution_count": 23,
   "metadata": {},
   "outputs": [
    {
     "name": "stdout",
     "output_type": "stream",
     "text": [
      "Number of Transactions Processed\t=\t50\n",
      "Number of Valid Accounts\t\t=\t20\n",
      "Number of valid Transactions\t\t=\t12\n",
      "Number of Fraudulent Transactions\t=\t38\n",
      "\n",
      "The Program has calculated the totals and ended successfully\n"
     ]
    }
   ],
   "source": [
    "main()"
   ]
  }
 ],
 "metadata": {
  "kernelspec": {
   "display_name": "Python 3",
   "language": "python",
   "name": "python3"
  },
  "language_info": {
   "codemirror_mode": {
    "name": "ipython",
    "version": 3
   },
   "file_extension": ".py",
   "mimetype": "text/x-python",
   "name": "python",
   "nbconvert_exporter": "python",
   "pygments_lexer": "ipython3",
   "version": "3.8.11"
  }
 },
 "nbformat": 4,
 "nbformat_minor": 4
}
