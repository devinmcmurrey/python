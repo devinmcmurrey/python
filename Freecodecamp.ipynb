{
 "cells": [
  {
   "cell_type": "code",
   "execution_count": 1,
   "id": "21c12560-d135-4ab8-a96f-a4f4abe2fdf5",
   "metadata": {},
   "outputs": [
    {
     "name": "stdout",
     "output_type": "stream",
     "text": [
      "Before: None\n",
      "Smallest: 3\n"
     ]
    }
   ],
   "source": [
    "smallest = None\n",
    "print(\"Before:\", smallest)\n",
    "for itervar in [3, 41, 12, 9, 74, 15]:\n",
    "    if smallest is None or itervar < smallest:\n",
    "        smallest = itervar\n",
    "        break\n",
    "    print(\"Loop:\", itervar, smallest)\n",
    "print(\"Smallest:\", smallest)"
   ]
  },
  {
   "cell_type": "code",
   "execution_count": 2,
   "id": "2c52dd7a-abb2-44ed-a241-64ef6194d6ea",
   "metadata": {},
   "outputs": [
    {
     "name": "stdout",
     "output_type": "stream",
     "text": [
      "b\n",
      "a\n",
      "n\n",
      "a\n",
      "n\n",
      "a\n"
     ]
    }
   ],
   "source": [
    "for n in \"banana\":\n",
    "        print(n)"
   ]
  },
  {
   "cell_type": "code",
   "execution_count": 6,
   "id": "65fd1791-35a0-443c-8efb-86bef69b2244",
   "metadata": {},
   "outputs": [
    {
     "name": "stdout",
     "output_type": "stream",
     "text": [
      "2\n"
     ]
    }
   ],
   "source": [
    "word = \"banana\"\n",
    "i = word.find(\"na\")\n",
    "print(i)"
   ]
  },
  {
   "cell_type": "code",
   "execution_count": 7,
   "id": "c49bcc67-7c8f-439f-9241-16f1e1920313",
   "metadata": {},
   "outputs": [
    {
     "name": "stdout",
     "output_type": "stream",
     "text": [
      "a\n"
     ]
    }
   ],
   "source": [
    "fruit = \"banana\"\n",
    "x = fruit[1]\n",
    "print(x)"
   ]
  },
  {
   "cell_type": "code",
   "execution_count": 9,
   "id": "5832425a-ce27-4115-a774-0717f9a66360",
   "metadata": {},
   "outputs": [
    {
     "name": "stdout",
     "output_type": "stream",
     "text": [
      "lar@freecodecamp.org\n",
      "['His', 'e-mail', 'is', 'q-lar@freecodecamp.org']\n"
     ]
    }
   ],
   "source": [
    "words = 'His e-mail is q-lar@freecodecamp.org'\n",
    "pieces = words.split()\n",
    "parts = pieces[3].split('-')\n",
    "n = parts[1]\n",
    "print(n)\n",
    "print(pieces)"
   ]
  },
  {
   "cell_type": "code",
   "execution_count": 10,
   "id": "f322ffb8-6160-41d5-9688-15341f7d488a",
   "metadata": {},
   "outputs": [
    {
     "name": "stdout",
     "output_type": "stream",
     "text": [
      "{'Fri': 20, 'Thu': 13, 'Sat': 2, 'Sun': 9}\n"
     ]
    }
   ],
   "source": [
    "dict = {\"Fri\": 20, \"Thu\": 6, \"Sat\": 1}\n",
    "dict[\"Thu\"] = 13\n",
    "dict[\"Sat\"] = 2\n",
    "dict[\"Sun\"] = 9\n",
    "print(dict)"
   ]
  },
  {
   "cell_type": "code",
   "execution_count": 12,
   "id": "4dbbdbce-b9a4-490a-a8f8-194b9154283a",
   "metadata": {},
   "outputs": [
    {
     "name": "stdout",
     "output_type": "stream",
     "text": [
      "0\n",
      "{'quincy': 1, 'mrugesh': 42, 'beau': 100, '0': 10}\n"
     ]
    }
   ],
   "source": [
    "counts = { 'quincy' : 1 , 'mrugesh' : 42, 'beau': 100, '0': 10}\n",
    "print(counts.get('kris', 0))\n",
    "print(counts)"
   ]
  },
  {
   "cell_type": "code",
   "execution_count": 13,
   "id": "ee51000c-8fc1-4827-87f4-f9e0a9c5787c",
   "metadata": {},
   "outputs": [
    {
     "name": "stdout",
     "output_type": "stream",
     "text": [
      "annie 42\n",
      "jan 100\n"
     ]
    }
   ],
   "source": [
    "counts = { 'chuck' : 1 , 'annie' : 42, 'jan': 100}\n",
    "for key in counts:\n",
    "    if counts[key] > 10:\n",
    "        print(key, counts[key])"
   ]
  },
  {
   "cell_type": "code",
   "execution_count": 14,
   "id": "9f71ee96-7ec1-4d7c-ab22-7d16829ae7bb",
   "metadata": {},
   "outputs": [
    {
     "name": "stdout",
     "output_type": "stream",
     "text": [
      "[(100, 'jan'), (42, 'annie'), (1, 'chuck')]\n"
     ]
    }
   ],
   "source": [
    "lst = []\n",
    "for key, val in counts.items():\n",
    "    newtup = (val, key)\n",
    "    lst.append(newtup)\n",
    "lst = sorted(lst, reverse=True)\n",
    "print(lst)"
   ]
  },
  {
   "cell_type": "code",
   "execution_count": 18,
   "id": "65fbce2d-0955-4e61-800b-6fbcca6c968e",
   "metadata": {},
   "outputs": [
    {
     "name": "stdout",
     "output_type": "stream",
     "text": [
      "[(100, 'jan'), (42, 'annie'), (1, 'chuck')]\n"
     ]
    }
   ],
   "source": [
    "print( sorted( [ (v,k) for k,v in counts.items() ], reverse=True ) )\n",
    "\n",
    "#print( [ (k,v) for k,v in counts.items().sorted() ] )\n",
    "\n",
    "#print( sorted( [ (v,k) for k,v in counts.keys() ] ) )\n",
    "\n",
    "#print( [ (k,v) for k,v in counts.values().sort() ] )"
   ]
  },
  {
   "cell_type": "code",
   "execution_count": 26,
   "id": "091a4c4a-3250-4880-974e-5657d3ea5e16",
   "metadata": {},
   "outputs": [
    {
     "name": "stdout",
     "output_type": "stream",
     "text": [
      "['csev@umich.edu', 'cwen@iupui.edu']\n",
      "['@umich.edu', '@iupui.edu', '@2PM']\n",
      "['@umich.edu', '@iupui.edu', '@2PM']\n"
     ]
    }
   ],
   "source": [
    "import re\n",
    "s = 'A message from csev@umich.edu to cwen@iupui.edu about meeting @2PM'\n",
    "lst = re.findall('\\\\S+@\\\\S+', s)\n",
    "print(lst)\n",
    "st = re.findall('@\\\\S+', s)\n",
    "print(st)\n",
    "t = re.findall('\\\\@\\\\S+', s)\n",
    "print(st)"
   ]
  },
  {
   "cell_type": "code",
   "execution_count": 27,
   "id": "7ab9cd95-e6e7-41b7-a744-a0411bde1c9d",
   "metadata": {},
   "outputs": [
    {
     "name": "stdout",
     "output_type": "stream",
     "text": [
      "HTTP/1.1 200 OK\n",
      "Date: Fri, 08 Jul 2022 05:00:29 GMT\n",
      "Server: Apache/2.4.18 (Ubuntu)\n",
      "Last-Modified: Sat, 13 May 2017 11:22:22 GMT\n",
      "ETag: \"a7-54f6609245537\"\n",
      "Accept-Ranges: bytes\n",
      "Content-Length: 167\n",
      "Cache-Control: max-age=0, no-cache, no-store, must-revalidate\n",
      "Pragma: no-cache\n",
      "Expires: Wed, 11 Jan 1984 05:00:00 GMT\n",
      "Connection: close\n",
      "Content-Type: text/plain\n",
      "\n",
      "But soft what light through yonder window breaks\n",
      "It is the east and Juliet is the sun\n",
      "Arise fair sun and kill the envious moon\n",
      "Who is already sick and pale with grief\n"
     ]
    }
   ],
   "source": [
    "import socket\n",
    "\n",
    "mysock = socket.socket(socket.AF_INET, socket.SOCK_STREAM)\n",
    "mysock.connect(('data.pr4e.org', 80))\n",
    "cmd = 'GET http://data.pr4e.org/romeo.txt HTTP/1.0\\r\\n\\r\\n'.encode()\n",
    "mysock.send(cmd)\n",
    "\n",
    "while True:\n",
    "    data = mysock.recv(512)\n",
    "    if len(data) < 1:\n",
    "        break\n",
    "    print(data.decode(),end='')\n",
    "mysock.close()"
   ]
  },
  {
   "cell_type": "code",
   "execution_count": 28,
   "id": "8d038420-df3e-4cc5-8b19-7371932b6e9b",
   "metadata": {},
   "outputs": [
    {
     "name": "stdout",
     "output_type": "stream",
     "text": [
      "But soft what light through yonder window breaks\n",
      "It is the east and Juliet is the sun\n",
      "Arise fair sun and kill the envious moon\n",
      "Who is already sick and pale with grief\n"
     ]
    }
   ],
   "source": [
    "import urllib.request\n",
    "fhand = urllib.request.urlopen('http://data.pr4e.org/romeo.txt')\n",
    "for line in fhand:\n",
    "    print(line.decode().strip())"
   ]
  },
  {
   "cell_type": "code",
   "execution_count": 30,
   "id": "809229b5-06ef-4d90-8c7d-1e62d17703a4",
   "metadata": {},
   "outputs": [
    {
     "name": "stdout",
     "output_type": "stream",
     "text": [
      "Mrugesh\n"
     ]
    }
   ],
   "source": [
    "import json\n",
    "data = '''\n",
    "  [\n",
    "    { \"id\" : \"001\",\n",
    "      \"x\" : \"2\",\n",
    "     \"name\" : \"Quincy\"\n",
    "    } ,\n",
    "    { \"id\" : \"009\",\n",
    "      \"x\" : \"7\",\n",
    "      \"name\" : \"Mrugesh\"\n",
    "    }\n",
    "  ]\n",
    "'''\n",
    "info = json.loads(data)\n",
    "print(info[1]['name'])"
   ]
  },
  {
   "cell_type": "code",
   "execution_count": 35,
   "id": "736a5bc6-3ffb-4e43-a5dd-02b82c42c1dc",
   "metadata": {},
   "outputs": [
    {
     "name": "stdout",
     "output_type": "stream",
     "text": [
      "2\n",
      "4\n"
     ]
    }
   ],
   "source": [
    "class PartyAnimal:\n",
    "    x = 0\n",
    "    def party(self):\n",
    "        self.x = self.x + 2\n",
    "        print(self.x)\n",
    "\n",
    "an = PartyAnimal()\n",
    "an.party()\n",
    "an.party()\n",
    "class PartyAnimal:\n",
    "    x = 0\n",
    "    def party(self):\n",
    "        self.x = self.x + 2\n",
    "        print(self.x)\n",
    "\n"
   ]
  },
  {
   "cell_type": "code",
   "execution_count": 37,
   "id": "d25b6c64-a9be-42b5-9ae0-70a67ac0f41a",
   "metadata": {},
   "outputs": [
    {
     "name": "stdout",
     "output_type": "stream",
     "text": [
      "Quincy constructed\n",
      "Miya constructed\n",
      "Quincy party count 1\n",
      "Miya party count 1\n",
      "Quincy party count 2\n"
     ]
    }
   ],
   "source": [
    "class PartyAnimal:\n",
    "    x = 0\n",
    "    name = ''\n",
    "    def __init__(self, nam):\n",
    "        self.name = nam\n",
    "        print(self.name,'constructed')\n",
    "    def party(self):\n",
    "        self.x = self.x + 1\n",
    "        print(self.name,'party count',self.x)\n",
    "\n",
    "q = PartyAnimal('Quincy')\n",
    "m = PartyAnimal('Miya')\n",
    "\n",
    "q.party()\n",
    "m.party()\n",
    "q.party()"
   ]
  },
  {
   "cell_type": "code",
   "execution_count": 45,
   "id": "bc1f3153-4036-4d86-a977-d4fa7f3881a0",
   "metadata": {},
   "outputs": [],
   "source": [
    "def arithmetic_arranger():\n",
    "    arithmetic_arranger([\"32 + 8\", \"1 - 3801\", \"9999 + 9999\", \"523 - 49\"], True)\n",
    "    print(arithmetic_arranger)"
   ]
  },
  {
   "cell_type": "code",
   "execution_count": 46,
   "id": "43014e67-7780-4e6b-a98f-6c4392be3c9b",
   "metadata": {},
   "outputs": [
    {
     "ename": "TypeError",
     "evalue": "arithmetic_arranger() takes 0 positional arguments but 2 were given",
     "output_type": "error",
     "traceback": [
      "\u001b[1;31m---------------------------------------------------------------------------\u001b[0m",
      "\u001b[1;31mTypeError\u001b[0m                                 Traceback (most recent call last)",
      "\u001b[1;32m<ipython-input-46-999970b52251>\u001b[0m in \u001b[0;36m<module>\u001b[1;34m\u001b[0m\n\u001b[1;32m----> 1\u001b[1;33m \u001b[0marithmetic_arranger\u001b[0m\u001b[1;33m(\u001b[0m\u001b[1;33m)\u001b[0m\u001b[1;33m\u001b[0m\u001b[1;33m\u001b[0m\u001b[0m\n\u001b[0m",
      "\u001b[1;32m<ipython-input-45-14cb9fc267d7>\u001b[0m in \u001b[0;36marithmetic_arranger\u001b[1;34m()\u001b[0m\n\u001b[0;32m      1\u001b[0m \u001b[1;32mdef\u001b[0m \u001b[0marithmetic_arranger\u001b[0m\u001b[1;33m(\u001b[0m\u001b[1;33m)\u001b[0m\u001b[1;33m:\u001b[0m\u001b[1;33m\u001b[0m\u001b[1;33m\u001b[0m\u001b[0m\n\u001b[1;32m----> 2\u001b[1;33m     \u001b[0marithmetic_arranger\u001b[0m\u001b[1;33m(\u001b[0m\u001b[1;33m[\u001b[0m\u001b[1;34m\"32 + 8\"\u001b[0m\u001b[1;33m,\u001b[0m \u001b[1;34m\"1 - 3801\"\u001b[0m\u001b[1;33m,\u001b[0m \u001b[1;34m\"9999 + 9999\"\u001b[0m\u001b[1;33m,\u001b[0m \u001b[1;34m\"523 - 49\"\u001b[0m\u001b[1;33m]\u001b[0m\u001b[1;33m,\u001b[0m \u001b[1;32mTrue\u001b[0m\u001b[1;33m)\u001b[0m\u001b[1;33m\u001b[0m\u001b[1;33m\u001b[0m\u001b[0m\n\u001b[0m\u001b[0;32m      3\u001b[0m     \u001b[0mprint\u001b[0m\u001b[1;33m(\u001b[0m\u001b[0marithmetic_arranger\u001b[0m\u001b[1;33m)\u001b[0m\u001b[1;33m\u001b[0m\u001b[1;33m\u001b[0m\u001b[0m\n",
      "\u001b[1;31mTypeError\u001b[0m: arithmetic_arranger() takes 0 positional arguments but 2 were given"
     ]
    }
   ],
   "source": [
    "arithmetic_arranger()"
   ]
  },
  {
   "cell_type": "code",
   "execution_count": 66,
   "id": "6d229244-e73d-413e-8d31-93ec92ccc568",
   "metadata": {},
   "outputs": [],
   "source": [
    "\n",
    "import re\n",
    "\n",
    "def arithmetic_arranger(problems, solve = False):\n",
    "    if(len(problems) > 5):\n",
    "        return \"Error: Too many problems.\"\n",
    "\n",
    "    first = \"\"\n",
    "    second = \"\"\n",
    "    lines = \"\"\n",
    "    sumx = \"\"\n",
    "    string = \"\"\n",
    "    \n",
    "    for problem in problem: \n",
    "        if(re.search(\"[^\\s0-9.+-]\", problem)):\n",
    "            if(re.search(\"[/]\", problem) or re.search(\"[*]\",problem)):\n",
    "                return \"Error: Operator must be '+' or '-'.\"\n",
    "                return \"Error: Numbers must only contain digits.\"\n",
    "\n",
    "    firstNumber = problem.split(\" \")[0]\n",
    "    operator = problem.split(\" \")[1]\n",
    "    secondNumber = problem.split(\" \")[2]\n",
    "\n",
    "    if(len(firstNumber) >= 5 or len(secondNumber) >= 5):\n",
    "        return \"error: Number cannot be more than 4 digits\"\n",
    "\n",
    "    sum = \"\"\n",
    "    if(operator == \"+\"):\n",
    "        sum = str(int(firstNumber) + int(secondNumber))\n",
    "    elif(operator == \"-\"):\n",
    "        sum = str(int(firstNumber) - int(secondNumber))\n",
    "    length = max(len(firstNumber), len(secondNumber))\n",
    "    top = str(firstNumber).rjust(length)\n",
    "    bottom = operator + str(secondNumber).rjust(lendth - 1)\n",
    "    line = \"\"\n",
    "    res = str(sum).rjust(length)\n",
    "    for s in range (length):\n",
    "          line += \"-\"\n",
    "    if problem != problems[-1]:\n",
    "        first += top + '    '\n",
    "        second += bottom + '    '\n",
    "        lines += line + '    '\n",
    "        sumx += res + '    '\n",
    "    else: \n",
    "        first += top\n",
    "        second += bottom \n",
    "        lines += line\n",
    "        sumx += res\n",
    "\n",
    "    if solve: \n",
    "        string = first + \"\\n\" + second + \"\\n\" + lines + \"\\n\" + sumx\n",
    "    else:\n",
    "        string = first + \"\\n\" + second + \"\\n\" + lines\n",
    "    return string \n",
    "      \n",
    "\n",
    "    return arranged_problems\n",
    "    print(arranged_problems)"
   ]
  },
  {
   "cell_type": "code",
   "execution_count": 69,
   "id": "a47b0d4c-a15c-4a84-bcca-31b16e03c9d1",
   "metadata": {},
   "outputs": [
    {
     "ename": "NameError",
     "evalue": "name 'problem' is not defined",
     "output_type": "error",
     "traceback": [
      "\u001b[1;31m---------------------------------------------------------------------------\u001b[0m",
      "\u001b[1;31mNameError\u001b[0m                                 Traceback (most recent call last)",
      "\u001b[1;32m<ipython-input-69-b050f7d4c2b9>\u001b[0m in \u001b[0;36m<module>\u001b[1;34m\u001b[0m\n\u001b[1;32m----> 1\u001b[1;33m \u001b[0marithmetic_arranger\u001b[0m\u001b[1;33m(\u001b[0m\u001b[0mproblem\u001b[0m\u001b[1;33m)\u001b[0m\u001b[1;33m\u001b[0m\u001b[1;33m\u001b[0m\u001b[0m\n\u001b[0m",
      "\u001b[1;31mNameError\u001b[0m: name 'problem' is not defined"
     ]
    }
   ],
   "source": [
    "arithmetic_arranger(problem)"
   ]
  }
 ],
 "metadata": {
  "kernelspec": {
   "display_name": "Python 3",
   "language": "python",
   "name": "python3"
  },
  "language_info": {
   "codemirror_mode": {
    "name": "ipython",
    "version": 3
   },
   "file_extension": ".py",
   "mimetype": "text/x-python",
   "name": "python",
   "nbconvert_exporter": "python",
   "pygments_lexer": "ipython3",
   "version": "3.8.11"
  }
 },
 "nbformat": 4,
 "nbformat_minor": 5
}
