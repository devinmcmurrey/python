{
 "cells": [
  {
   "cell_type": "markdown",
   "metadata": {},
   "source": [
    "### NAME: Devin McMurrey\n",
    "### DATE: 10/31/2020\n",
    "\n",
    "<font color='red'>\n",
    "    \n",
    "### GRADE:\n",
    "</font>"
   ]
  },
  {
   "cell_type": "markdown",
   "metadata": {},
   "source": [
    "<font color = 'blue'>\n",
    "    \n",
    "### GRADING COMMENTS:\n",
    "    \n",
    "<font size = 1>\n",
    "\n",
    "1. \n",
    "    \n",
    "</font>\n",
    "</font>\n"
   ]
  },
  {
   "cell_type": "markdown",
   "metadata": {},
   "source": [
    "### Program Name : Insert the Program name (e.g. Computing Total Purchase)"
   ]
  },
  {
   "cell_type": "markdown",
   "metadata": {},
   "source": [
    "### Program Objective: \n",
    "\n",
    "<font size = 1>\n",
    "    \n",
    "\n",
    "    \n",
    "</font>\n",
    "    "
   ]
  },
  {
   "cell_type": "code",
   "execution_count": 1,
   "metadata": {},
   "outputs": [],
   "source": [
    "# Your program code should begin in this cell, starting on line 3\n",
    "\n",
    "def get_course_data():\n",
    "    '''A value returing function, Opens 2 input files, reads them, loads them into appropriate colletction type data structures and returns them'''\n",
    "    import pandas as pd #uses pandas to simplify creation of dataframe from csv file \n",
    "    FILE_PATH = \"C:\\CIS5357\\Assignments\"\n",
    "    \n",
    "    COURSE_INVENTORY = '\\CourseInventory.csv'\n",
    "    COURSE_SCHEDULE =   '\\CourseSchedule.csv'         \n",
    "    \n",
    "    #input\n",
    "    with open(FILE_PATH + COURSE_INVENTORY, 'r') as dict_course_inventory_file:\n",
    "        course_inventory_df = pd.read_csv(dict_course_inventory_file, header = None, index_col = 0) #creates dataframe \n",
    "        \n",
    "        course_inventory_dict = course_inventory_df.T.to_dict('list') #transposes data set and populates fields by course number & creates dictionary \n",
    "    \n",
    "    with open(FILE_PATH + COURSE_SCHEDULE, 'r') as course_numbers_file:\n",
    "       \n",
    "    #Process    \n",
    "        schedule_data = course_numbers_file.read().split('\\n')\n",
    "\n",
    "   \n",
    "    #we dont need to close course inventory as it was opened using with open so it is automatically closed \n",
    "   \n",
    "    #output\n",
    "    return course_inventory_dict, schedule_data"
   ]
  },
  {
   "cell_type": "code",
   "execution_count": 2,
   "metadata": {},
   "outputs": [],
   "source": [
    "def process_courses(course_inventory_dict, schedule_data):\n",
    "    \n",
    "    '''A value returning fucntion, receives 2 data structures from get_course_data, sorts the data into courses that offered/not offered, generates summary statistics, returns the sorted dtata as 3 data structure'''\n",
    "    #initialization\n",
    "    courses_scheduled_this_sem_values = []\n",
    "    courses_not_scheduled_this_sem = []\n",
    "    course_num_scheduled_this_sem = []\n",
    "    \n",
    "    #process\n",
    "    for course in course_inventory_dict:\n",
    "        if course not in schedule_data:\n",
    "            courses_not_scheduled_this_sem.append(course) #C\n",
    "        else:\n",
    "            course_detail = course_inventory_dict[course]\n",
    "            course_detail.insert(0, course)\n",
    "            courses_scheduled_this_sem_values.append(course_detail) #A\n",
    "            course_num_scheduled_this_sem.append(course) #B\n",
    "    \n",
    "    list_keys_course_inventory_dict = course_inventory_dict.keys()\n",
    "    \n",
    "    total_num_courses = len(list_keys_course_inventory_dict)\n",
    "    num_courses_scheduled = len(course_num_scheduled_this_sem)\n",
    "    num_courses_not_scheduled = len(courses_not_scheduled_this_sem)\n",
    "    \n",
    "    statistic_summary = [total_num_courses, num_courses_scheduled, num_courses_not_scheduled] #D\n",
    "    #output\n",
    "    return courses_scheduled_this_sem_values, courses_not_scheduled_this_sem, statistic_summary"
   ]
  },
  {
   "cell_type": "code",
   "execution_count": 3,
   "metadata": {},
   "outputs": [],
   "source": [
    "def print_report(courses_scheduled_this_sem_values, courses_not_scheduled_this_sem, statistic_summary):\n",
    "    ''' void function that prints out scheduled, non scheduled and summary statistics '''\n",
    "   \n",
    "    print_scheduled(courses_scheduled_this_sem_values)\n",
    "    print_non_schduled(courses_not_scheduled_this_sem)\n",
    "    \n",
    "    print('\\n')\n",
    "    print(f'Total # of courses:\\t\\t{statistic_summary[0]:>5}')\n",
    "    print(f'# of courses Scheduled:\\t\\t{statistic_summary[1]:>5}')\n",
    "    print(f'# of courses Not Schduled\\t{statistic_summary[2]:>5}')\n",
    "    print('\\n')\n",
    "    print('Program ran and completed successfully')"
   ]
  },
  {
   "cell_type": "code",
   "execution_count": 4,
   "metadata": {},
   "outputs": [],
   "source": [
    "def print_scheduled(courses_scheduled_this_sem_values):\n",
    "    '''prints first section of report, including headers, uses data structre from courses scheduled'''\n",
    "    print('Course Number\\tInstructor\\tRoom Number\\tDay_Time')\n",
    "    print(f\"{'-'*13}\\t{'-'*10}\\t{'-'*11}\\t{'-'*9}\")\n",
    "    \n",
    "    for course in range (0,len(courses_scheduled_this_sem_values),1):\n",
    "        course_list_item = courses_scheduled_this_sem_values[course]\n",
    "        console_output = f\"{course_list_item[0]:<16}{course_list_item[1]:<16}{course_list_item[2]:<16}{course_list_item[3]:<16}\"\n",
    "        print(console_output)\n",
    "        \n",
    "    print('\\n')\n",
    "    "
   ]
  },
  {
   "cell_type": "code",
   "execution_count": 5,
   "metadata": {},
   "outputs": [],
   "source": [
    "def print_non_schduled(courses_not_scheduled_this_sem):\n",
    "    '''prints section section, includes headers , ususes data structure for non schduled courses it receives from print report function'''\n",
    "    print('The Following courses are not offered this semester:')\n",
    "    print('-'*55)\n",
    "    for item in courses_not_scheduled_this_sem:\n",
    "        print(item)"
   ]
  },
  {
   "cell_type": "code",
   "execution_count": 6,
   "metadata": {},
   "outputs": [],
   "source": [
    "def main():\n",
    "\n",
    "    course_inventory_dict, schedule_data = get_course_data()\n",
    "    courses_scheduled_this_sem_values, courses_not_scheduled_this_sem, statistic_summary= process_courses(course_inventory_dict, schedule_data)\n",
    "    print_report(courses_scheduled_this_sem_values, courses_not_scheduled_this_sem, statistic_summary)"
   ]
  },
  {
   "cell_type": "code",
   "execution_count": 8,
   "metadata": {},
   "outputs": [
    {
     "name": "stdout",
     "output_type": "stream",
     "text": [
      "Course Number\tInstructor\tRoom Number\tDay_Time\n",
      "-------------\t----------\t-----------\t---------\n",
      "CIS1323         Krouse          336             MWF 8:0am       \n",
      "CIS2324         Leeds           332             TR 9:30am       \n",
      "CIS3325         Richardson      332             TR 2:00pm       \n",
      "CIS3389         Shaji           241             TR 2:00pm       \n",
      "CIS5357         Petals          224             T 6:30pm        \n",
      "CM241           Hyde            1411            TR 1:00pm       \n",
      "CS101           Haynes          3004            MWF 8:00am      \n",
      "CS102           Alvardo         4501            MWF 9:00am      \n",
      "FIN3312         Lydecki         101             MWF 11:00am     \n",
      "QM2333          Rodrigues       222             TR 12:30pm      \n",
      "QM5335          St. John        242             M 6:30pm        \n",
      "QM5336          Ricardo         319             W 6:30pm        \n",
      "\n",
      "\n",
      "The Following courses are not offered this semester:\n",
      "-------------------------------------------------------\n",
      "CIS3390\n",
      "CIS3391\n",
      "CIS3392\n",
      "CS103\n",
      "FIN4335\n",
      "NT110\n",
      "QM3339\n",
      "\n",
      "\n",
      "Total # of courses:\t\t   19\n",
      "# of courses Scheduled:\t\t   12\n",
      "# of courses Not Schduled\t    7\n",
      "\n",
      "\n",
      "Program ran and completed successfully\n"
     ]
    }
   ],
   "source": [
    "main()"
   ]
  },
  {
   "cell_type": "code",
   "execution_count": null,
   "metadata": {},
   "outputs": [],
   "source": []
  },
  {
   "cell_type": "code",
   "execution_count": null,
   "metadata": {},
   "outputs": [],
   "source": []
  }
 ],
 "metadata": {
  "kernelspec": {
   "display_name": "Python 3",
   "language": "python",
   "name": "python3"
  },
  "language_info": {
   "codemirror_mode": {
    "name": "ipython",
    "version": 3
   },
   "file_extension": ".py",
   "mimetype": "text/x-python",
   "name": "python",
   "nbconvert_exporter": "python",
   "pygments_lexer": "ipython3",
   "version": "3.8.11"
  }
 },
 "nbformat": 4,
 "nbformat_minor": 4
}
