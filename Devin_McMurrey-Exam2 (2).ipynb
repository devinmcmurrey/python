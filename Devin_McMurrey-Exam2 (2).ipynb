{
 "cells": [
  {
   "cell_type": "markdown",
   "metadata": {},
   "source": [
    "### NAME: Insert your Name on this line\n",
    "### DATE: April 8, 2021 PRIOR to 9:30 PM\n",
    "\n",
    "<font color='red'>\n",
    "    \n",
    "### GRADE:\n",
    "</font>"
   ]
  },
  {
   "cell_type": "markdown",
   "metadata": {},
   "source": [
    "<font color = 'blue'>\n",
    "    \n",
    "### GRADING COMMENTS:\n",
    "    \n",
    "<font size = 1>\n",
    "\n",
    "1. \n",
    "    \n",
    "</font>\n",
    "</font>\n"
   ]
  },
  {
   "cell_type": "markdown",
   "metadata": {},
   "source": [
    "### Program Name : EXAMINATION # 2 SPRING 2021"
   ]
  },
  {
   "cell_type": "markdown",
   "metadata": {},
   "source": [
    "### Your program code should begin in the cell below:"
   ]
  },
  {
   "cell_type": "code",
   "execution_count": 16,
   "metadata": {},
   "outputs": [],
   "source": [
    "# Your program code should begin in this cell, starting on line 3 \n",
    "#I have left in some print statments and checks to show you my process and how I was working through the logic\n",
    "def get_student_data():\n",
    "    '''WIll bulk read and populated data from csv and return an appropriate data structure'''\n",
    "    import pandas as pd #uses pandas to simplify creation of dataframe from csv file \n",
    "    FILE_PATH =  '/users/cis5357/exams/'        #\"C:\\CIS5357\\Exam2\"\n",
    "    \n",
    "    STUDENT_DATA = 'StudentData.csv'\n",
    "    \n",
    "    #input\n",
    "    with open(FILE_PATH + STUDENT_DATA, 'r') as dict_student_data_file:\n",
    "        student_data_df = pd.read_csv(dict_student_data_file, header = 0, index_col = 0)\n",
    "        #print(student_data_df)\n",
    "    #process\n",
    "        student_data_dict = student_data_df.T.to_dict('list')\n",
    "    \n",
    "    #output\n",
    "    return student_data_dict"
   ]
  },
  {
   "cell_type": "code",
   "execution_count": 17,
   "metadata": {},
   "outputs": [],
   "source": [
    "def process_student_data(student_data_dict):\n",
    "    '''Will receive data structure from get_student_data, extraxt dtails bsed on provided ID and return a new structure including new calculated details'''\n",
    "    #initialization\n",
    "    MAX_POSS_SCORE = 100.00\n",
    "    MIN_FOR_A = 90.00\n",
    "    MIN_FOR_B = 80.00\n",
    "    MIN_FOR_C = 70.00\n",
    "    MIN_FOR_D = 60.00\n",
    "    number_of_exams = 3\n",
    "    \n",
    "    #input\n",
    "    \n",
    "    #I was unsure if we needed error checks. Other assignments explicitly stated if they were \"not necessary\" so I will assume they are required. \n",
    "    #Before I built out the while loop on line 18, line 15 worked for the code but did not check for any errors \n",
    "    #input_student_id = int(input('\\nPlease enter the Student ID to look up grades: (eg. 111-118) \\n'))\n",
    "    #print(student_data_dict)\n",
    "     \n",
    "    while True:\n",
    "        input_student_id = input('\\nPlease enter the Student ID to look up grades: (eg. 111-118) \\n')\n",
    "        if not input_student_id.isdigit():\n",
    "            print(\"please enter a number\")\n",
    "            continue #this will allow the program to loop to continue to the next iteration after a number is entered and the isdigit condition is met \n",
    "        input_student_id = int(input_student_id) # converts from string to int\n",
    "        student = student_data_dict.get(input_student_id)\n",
    "        #print(student)\n",
    "        if student is not None: #if the id doesnt exist \n",
    "            break #this will stop the loop and execute the contents \n",
    "        print('Student ID is not in data')\n",
    "    \n",
    "    #process\n",
    "        \n",
    "    student[1:] = map(int,student[1:]) #by mapping the list in the this way it will set all test grades to an int, this lets us calculate the sum and average score in the next lines.\n",
    "    #ALso this program will now work even if there were 10,000 grades\n",
    "    \n",
    "    \n",
    "    average_score = sum(student[1:])/number_of_exams #similar to how I mapped the list previously this will simply allow the code to scale for more grades\n",
    "    \n",
    "    average_score = round(average_score,2)\n",
    "    \n",
    "    #print(average_score)\n",
    "    \n",
    "    if average_score >= MIN_FOR_A:\n",
    "        letter_grade = 'A'\n",
    "    elif average_score >= MIN_FOR_B:\n",
    "        letter_grade = 'B'\n",
    "    elif average_score >= MIN_FOR_C:\n",
    "        letter_grade = 'C'\n",
    "    elif average_score >= MIN_FOR_D:\n",
    "        letter_grade = 'D'\n",
    "    else:\n",
    "        letter_grade = 'F'\n",
    "        \n",
    "    #print(letter_grade)\n",
    "    \n",
    "   # student_details = [student[0], student[1], student[2], student[3], average_score, letter_grade]\n",
    "    #again I was looking for a solution on how to scale the program. on line 55 it would only work for 3 grades.\n",
    "    # in my data base management class we have used the * as a repeat operator. I looked it up and saw it would work here to read the entire list. \n",
    "    student_details = [*student, average_score, letter_grade]\n",
    "    #print(student_details)\n",
    "    \n",
    "        \n",
    "    return student_details"
   ]
  },
  {
   "cell_type": "code",
   "execution_count": 18,
   "metadata": {},
   "outputs": [],
   "source": [
    "def display_student_details(student_details):\n",
    "    '''receive data structure from process_student_data and siplay details in console'''\n",
    "    # I realize this could be done in a for loop to make it more scalable, but that would have been a large undertaking in the time I have left \n",
    "    print(f'\\nName\\t\\t{student_details[0]:<16}')\n",
    "    print(f'E1\\t\\t{student_details[1]:<16}')\n",
    "    print(f'E2\\t\\t{student_details[2]:<16}')\n",
    "    print(f'E3\\t\\t{student_details[3]:<16}')\n",
    "    print(f'Average\\t\\t{student_details[4]:<16}')\n",
    "    print(f'ltrGrade\\t{student_details[5]:<16}')"
   ]
  },
  {
   "cell_type": "code",
   "execution_count": 19,
   "metadata": {},
   "outputs": [],
   "source": [
    "def main():\n",
    "    '''invoke get_student data, take input for student ID in range of 111-119, invoke process student data, invoke display_student_details'''\n",
    "    want_continue = 'Y'\n",
    "    student_data_dict = get_student_data()\n",
    "    while want_continue.upper() in ('Y', 'YES'):\n",
    "        student_details = process_student_data(student_data_dict)\n",
    "        display_student_details(student_details) \n",
    "        want_continue = input(\"\\nDo you want to enter another trip ( Y or N)?: \").strip()\n",
    "    print('\\nApplication terminated by the user')"
   ]
  },
  {
   "cell_type": "code",
   "execution_count": 20,
   "metadata": {},
   "outputs": [
    {
     "name": "stdin",
     "output_type": "stream",
     "text": [
      "\n",
      "Please enter the Student ID to look up grades: (eg. 111-118) \n",
      " 115\n"
     ]
    },
    {
     "name": "stdout",
     "output_type": "stream",
     "text": [
      "\n",
      "Name\t\tToby Kebbell    \n",
      "E1\t\t55              \n",
      "E2\t\t73              \n",
      "E3\t\t66              \n",
      "Average\t\t64.67           \n",
      "ltrGrade\tD               \n"
     ]
    },
    {
     "name": "stdin",
     "output_type": "stream",
     "text": [
      "\n",
      "Do you want to enter another trip ( Y or N)?:  y\n",
      "\n",
      "Please enter the Student ID to look up grades: (eg. 111-118) \n",
      " 113\n"
     ]
    },
    {
     "name": "stdout",
     "output_type": "stream",
     "text": [
      "\n",
      "Name\t\tRizwan Manji    \n",
      "E1\t\t70              \n",
      "E2\t\t89              \n",
      "E3\t\t95              \n",
      "Average\t\t84.67           \n",
      "ltrGrade\tB               \n"
     ]
    },
    {
     "name": "stdin",
     "output_type": "stream",
     "text": [
      "\n",
      "Do you want to enter another trip ( Y or N)?:  n\n"
     ]
    },
    {
     "name": "stdout",
     "output_type": "stream",
     "text": [
      "\n",
      "Application terminated by the user\n"
     ]
    }
   ],
   "source": [
    "main()"
   ]
  }
 ],
 "metadata": {
  "kernelspec": {
   "display_name": "Python 3",
   "language": "python",
   "name": "python3"
  },
  "language_info": {
   "codemirror_mode": {
    "name": "ipython",
    "version": 3
   },
   "file_extension": ".py",
   "mimetype": "text/x-python",
   "name": "python",
   "nbconvert_exporter": "python",
   "pygments_lexer": "ipython3",
   "version": "3.8.11"
  }
 },
 "nbformat": 4,
 "nbformat_minor": 4
}
