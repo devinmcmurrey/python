{
 "cells": [
  {
   "cell_type": "code",
   "execution_count": 24,
   "id": "2a878545-3b6f-4c13-9aca-85e8722816d2",
   "metadata": {},
   "outputs": [
    {
     "name": "stdin",
     "output_type": "stream",
     "text": [
      "Enter a number:  100\n"
     ]
    },
    {
     "name": "stdout",
     "output_type": "stream",
     "text": [
      "If you pick up 100 eggs spaced one yard apart the total amount of yards ran will be 10100, or 5.74 miles\n"
     ]
    }
   ],
   "source": [
    "num = int(input(\"Enter a number: \"))    \n",
    "factorial = 0    \n",
    "   \n",
    "for i in range(1,num + 1):    \n",
    "    factorial = factorial+i\n",
    "factorial = 2* factorial\n",
    "miles = factorial/1760\n",
    "print(f'If you pick up {num} eggs spaced one yard apart the total amount of yards ran will be {factorial}, or {round(miles,2)} miles')\n",
    "\n"
   ]
  }
 ],
 "metadata": {
  "kernelspec": {
   "display_name": "Python 3",
   "language": "python",
   "name": "python3"
  },
  "language_info": {
   "codemirror_mode": {
    "name": "ipython",
    "version": 3
   },
   "file_extension": ".py",
   "mimetype": "text/x-python",
   "name": "python",
   "nbconvert_exporter": "python",
   "pygments_lexer": "ipython3",
   "version": "3.8.11"
  }
 },
 "nbformat": 4,
 "nbformat_minor": 5
}
