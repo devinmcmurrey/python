{
 "cells": [
  {
   "cell_type": "code",
   "execution_count": 17,
   "id": "7834df52-72e5-46db-b360-3886dc80eda4",
   "metadata": {},
   "outputs": [],
   "source": [
    "import pandas as pd \n",
    "\n",
    "def read_worldseries_data():\n",
    "    \n",
    "    FILE_PATH = \"C:\\CIS5357\\ClassDemos\"\n",
    "    df_worldseries_winners = pd.read_table(FILE_PATH + '\\WorldSeriesWinners.txt', header = None, sep= ',')\n",
    "    df_worldseries_winners.columns = ['team_name']\n",
    "    return df_worldseries_winners \n",
    "    "
   ]
  },
  {
   "cell_type": "code",
   "execution_count": 13,
   "id": "e2d04afa-a9d8-48e8-a249-53d7336c4c88",
   "metadata": {},
   "outputs": [],
   "source": [
    "df_worldseries_winners = read_worldseries_data()"
   ]
  },
  {
   "cell_type": "code",
   "execution_count": null,
   "id": "12401bb0-1e96-412d-a15a-24c0337f2d87",
   "metadata": {},
   "outputs": [],
   "source": [
    "def calculate_wins(df_worldseries_winners):\n",
    "    df_winning_teams = df_worldseries_winners['team_name'].value_counts().index.tolist() #look at it with and without index \n",
    "    for idx,name in enumerate(df_winning_teams):\n",
    "        print('name:'; name)\n",
    "        print('Counts \"', df_worldseries_winners['team_name'].value_counts()[idx])\n",
    "    \n",
    "    #df_winning_teams = df_winning_teams.rename(columns={'index':'Count'})\n",
    "    \n",
    "    return df_winning_teams"
   ]
  },
  {
   "cell_type": "code",
   "execution_count": 1,
   "id": "d9b50006-3a86-4a66-b1c2-affd36a59ab7",
   "metadata": {},
   "outputs": [
    {
     "ename": "NameError",
     "evalue": "name 'df_winning_teams' is not defined",
     "output_type": "error",
     "traceback": [
      "\u001b[1;31m---------------------------------------------------------------------------\u001b[0m",
      "\u001b[1;31mNameError\u001b[0m                                 Traceback (most recent call last)",
      "\u001b[1;32m<ipython-input-1-2f7c54ceb7b3>\u001b[0m in \u001b[0;36m<module>\u001b[1;34m\u001b[0m\n\u001b[1;32m----> 1\u001b[1;33m \u001b[0mdisplay\u001b[0m\u001b[1;33m(\u001b[0m\u001b[0mdf_winning_teams\u001b[0m\u001b[1;33m)\u001b[0m\u001b[1;33m\u001b[0m\u001b[1;33m\u001b[0m\u001b[0m\n\u001b[0m",
      "\u001b[1;31mNameError\u001b[0m: name 'df_winning_teams' is not defined"
     ]
    }
   ],
   "source": [
    "display(df_winning_teams)"
   ]
  },
  {
   "cell_type": "code",
   "execution_count": null,
   "id": "7ffe528d-b0e1-46a4-8cd6-8632ef07a201",
   "metadata": {},
   "outputs": [],
   "source": [
    "def main():\n",
    "    continue_process = 'Y'\n",
    "    df_worldseries_winners = read_worldseries_data()\n",
    "    \n",
    "    df_winning_teams = calculate_wins(df_worldseries_winners)\n",
    "    \n",
    "    while continue_process.upper() == 'Y':\n",
    "        team_name = input('Please enter the name of the team:  ')\n",
    "        team_record = df_winning_teams.loc[df_winning_teams['team_name']==team_name]\n",
    "        display(team_record)\n",
    "        num_of_times_won = team_record['index'].values[0]\n",
    "        display(num_of_times_won)\n",
    "        print(f\"\\n{team_name} has won the world series a total of {num_of_times_won} times between 1903 and 2009\\n\")\n",
    "        continue_process = input(f\"DO you wish to continue (Y or N)\").upper()\n",
    "    print(\"program terminated by user \")\n",
    "                                 "
   ]
  },
  {
   "cell_type": "code",
   "execution_count": 24,
   "id": "626d8d5f-336d-43b1-8431-9895c873a226",
   "metadata": {},
   "outputs": [
    {
     "data": {
      "text/html": [
       "<div>\n",
       "<style scoped>\n",
       "    .dataframe tbody tr th:only-of-type {\n",
       "        vertical-align: middle;\n",
       "    }\n",
       "\n",
       "    .dataframe tbody tr th {\n",
       "        vertical-align: top;\n",
       "    }\n",
       "\n",
       "    .dataframe thead th {\n",
       "        text-align: right;\n",
       "    }\n",
       "</style>\n",
       "<table border=\"1\" class=\"dataframe\">\n",
       "  <thead>\n",
       "    <tr style=\"text-align: right;\">\n",
       "      <th></th>\n",
       "      <th>team_name</th>\n",
       "    </tr>\n",
       "  </thead>\n",
       "  <tbody>\n",
       "    <tr>\n",
       "      <th>0</th>\n",
       "      <td>Boston Americans</td>\n",
       "    </tr>\n",
       "    <tr>\n",
       "      <th>1</th>\n",
       "      <td>New York Giants</td>\n",
       "    </tr>\n",
       "    <tr>\n",
       "      <th>2</th>\n",
       "      <td>Chicago White Sox</td>\n",
       "    </tr>\n",
       "    <tr>\n",
       "      <th>3</th>\n",
       "      <td>Chicago Cubs</td>\n",
       "    </tr>\n",
       "    <tr>\n",
       "      <th>4</th>\n",
       "      <td>Chicago Cubs</td>\n",
       "    </tr>\n",
       "    <tr>\n",
       "      <th>...</th>\n",
       "      <td>...</td>\n",
       "    </tr>\n",
       "    <tr>\n",
       "      <th>99</th>\n",
       "      <td>Boston Red Sox</td>\n",
       "    </tr>\n",
       "    <tr>\n",
       "      <th>100</th>\n",
       "      <td>Chicago White Sox</td>\n",
       "    </tr>\n",
       "    <tr>\n",
       "      <th>101</th>\n",
       "      <td>St. Louis Cardinals</td>\n",
       "    </tr>\n",
       "    <tr>\n",
       "      <th>102</th>\n",
       "      <td>Boston Red Sox</td>\n",
       "    </tr>\n",
       "    <tr>\n",
       "      <th>103</th>\n",
       "      <td>Philadelphia Phillies</td>\n",
       "    </tr>\n",
       "  </tbody>\n",
       "</table>\n",
       "<p>104 rows × 1 columns</p>\n",
       "</div>"
      ],
      "text/plain": [
       "                 team_name\n",
       "0         Boston Americans\n",
       "1          New York Giants\n",
       "2        Chicago White Sox\n",
       "3             Chicago Cubs\n",
       "4             Chicago Cubs\n",
       "..                     ...\n",
       "99          Boston Red Sox\n",
       "100      Chicago White Sox\n",
       "101    St. Louis Cardinals\n",
       "102         Boston Red Sox\n",
       "103  Philadelphia Phillies\n",
       "\n",
       "[104 rows x 1 columns]"
      ]
     },
     "metadata": {},
     "output_type": "display_data"
    },
    {
     "data": {
      "text/plain": [
       "New York Yankees          26\n",
       "St. Louis Cardinals       10\n",
       "Boston Red Sox             6\n",
       "Los Angeles Dodgers        5\n",
       "Pittsburgh Pirates         5\n",
       "Philadelphia Athletics     5\n",
       "Cincinnati Reds            5\n",
       "New York Giants            5\n",
       "Oakland Athletics          4\n",
       "Detroit Tigers             4\n",
       "Chicago White Sox          3\n",
       "Baltimore Orioles          3\n",
       "Florida Marlins            2\n",
       "Philadelphia Phillies      2\n",
       "New York Mets              2\n",
       "Toronto Blue Jays          2\n",
       "Minnesota Twins            2\n",
       "Cleveland Indians          2\n",
       "Chicago Cubs               2\n",
       "Atlanta Braves             1\n",
       "Arizona Diamondbacks       1\n",
       "Boston Americans           1\n",
       "Brooklyn Dodgers           1\n",
       "Kansas City Royals         1\n",
       "Milwaukee Braves           1\n",
       "Washington Senators        1\n",
       "Boston Braves              1\n",
       "Anaheim Angels             1\n",
       "Name: team_name, dtype: int64"
      ]
     },
     "metadata": {},
     "output_type": "display_data"
    },
    {
     "data": {
      "text/plain": [
       "New York Yankees          26\n",
       "St. Louis Cardinals       10\n",
       "Boston Red Sox             6\n",
       "Los Angeles Dodgers        5\n",
       "Pittsburgh Pirates         5\n",
       "Philadelphia Athletics     5\n",
       "Cincinnati Reds            5\n",
       "New York Giants            5\n",
       "Oakland Athletics          4\n",
       "Detroit Tigers             4\n",
       "Chicago White Sox          3\n",
       "Baltimore Orioles          3\n",
       "Florida Marlins            2\n",
       "Philadelphia Phillies      2\n",
       "New York Mets              2\n",
       "Toronto Blue Jays          2\n",
       "Minnesota Twins            2\n",
       "Cleveland Indians          2\n",
       "Chicago Cubs               2\n",
       "Atlanta Braves             1\n",
       "Arizona Diamondbacks       1\n",
       "Boston Americans           1\n",
       "Brooklyn Dodgers           1\n",
       "Kansas City Royals         1\n",
       "Milwaukee Braves           1\n",
       "Washington Senators        1\n",
       "Boston Braves              1\n",
       "Anaheim Angels             1\n",
       "Name: team_name, dtype: int64"
      ]
     },
     "metadata": {},
     "output_type": "display_data"
    },
    {
     "ename": "KeyboardInterrupt",
     "evalue": "Interrupted by user",
     "output_type": "error",
     "traceback": [
      "\u001b[1;31m---------------------------------------------------------------------------\u001b[0m",
      "\u001b[1;31mKeyboardInterrupt\u001b[0m                         Traceback (most recent call last)",
      "\u001b[1;32m<ipython-input-24-263240bbee7e>\u001b[0m in \u001b[0;36m<module>\u001b[1;34m\u001b[0m\n\u001b[1;32m----> 1\u001b[1;33m \u001b[0mmain\u001b[0m\u001b[1;33m(\u001b[0m\u001b[1;33m)\u001b[0m\u001b[1;33m\u001b[0m\u001b[1;33m\u001b[0m\u001b[0m\n\u001b[0m",
      "\u001b[1;32m<ipython-input-19-ebe09f271ee7>\u001b[0m in \u001b[0;36mmain\u001b[1;34m()\u001b[0m\n\u001b[0;32m      6\u001b[0m     \u001b[0mdisplay\u001b[0m\u001b[1;33m(\u001b[0m\u001b[0mdf_winning_teams\u001b[0m\u001b[1;33m)\u001b[0m\u001b[1;33m\u001b[0m\u001b[1;33m\u001b[0m\u001b[0m\n\u001b[0;32m      7\u001b[0m     \u001b[1;32mwhile\u001b[0m \u001b[0mcontinue_process\u001b[0m\u001b[1;33m.\u001b[0m\u001b[0mupper\u001b[0m\u001b[1;33m(\u001b[0m\u001b[1;33m)\u001b[0m \u001b[1;33m==\u001b[0m \u001b[1;34m'Y'\u001b[0m\u001b[1;33m:\u001b[0m\u001b[1;33m\u001b[0m\u001b[1;33m\u001b[0m\u001b[0m\n\u001b[1;32m----> 8\u001b[1;33m         \u001b[0mteam_name\u001b[0m \u001b[1;33m=\u001b[0m \u001b[0minput\u001b[0m\u001b[1;33m(\u001b[0m\u001b[1;34m'Please enter the name of the team:  '\u001b[0m\u001b[1;33m)\u001b[0m\u001b[1;33m\u001b[0m\u001b[1;33m\u001b[0m\u001b[0m\n\u001b[0m\u001b[0;32m      9\u001b[0m         \u001b[0mteam_record\u001b[0m \u001b[1;33m=\u001b[0m \u001b[0mdf_winning_teams\u001b[0m\u001b[1;33m.\u001b[0m\u001b[0mloc\u001b[0m\u001b[1;33m[\u001b[0m\u001b[0mdf_winning_teams\u001b[0m\u001b[1;33m[\u001b[0m\u001b[1;34m'team_name'\u001b[0m\u001b[1;33m]\u001b[0m\u001b[1;33m==\u001b[0m\u001b[0mteam_name\u001b[0m\u001b[1;33m]\u001b[0m\u001b[1;33m\u001b[0m\u001b[1;33m\u001b[0m\u001b[0m\n\u001b[0;32m     10\u001b[0m         \u001b[0mdisplay\u001b[0m\u001b[1;33m(\u001b[0m\u001b[0mteam_record\u001b[0m\u001b[1;33m)\u001b[0m\u001b[1;33m\u001b[0m\u001b[1;33m\u001b[0m\u001b[0m\n",
      "\u001b[1;32m~\\anaconda3\\lib\\site-packages\\ipykernel\\kernelbase.py\u001b[0m in \u001b[0;36mraw_input\u001b[1;34m(self, prompt)\u001b[0m\n\u001b[0;32m    858\u001b[0m                 \u001b[1;34m\"raw_input was called, but this frontend does not support input requests.\"\u001b[0m\u001b[1;33m\u001b[0m\u001b[1;33m\u001b[0m\u001b[0m\n\u001b[0;32m    859\u001b[0m             )\n\u001b[1;32m--> 860\u001b[1;33m         return self._input_request(str(prompt),\n\u001b[0m\u001b[0;32m    861\u001b[0m             \u001b[0mself\u001b[0m\u001b[1;33m.\u001b[0m\u001b[0m_parent_ident\u001b[0m\u001b[1;33m,\u001b[0m\u001b[1;33m\u001b[0m\u001b[1;33m\u001b[0m\u001b[0m\n\u001b[0;32m    862\u001b[0m             \u001b[0mself\u001b[0m\u001b[1;33m.\u001b[0m\u001b[0m_parent_header\u001b[0m\u001b[1;33m,\u001b[0m\u001b[1;33m\u001b[0m\u001b[1;33m\u001b[0m\u001b[0m\n",
      "\u001b[1;32m~\\anaconda3\\lib\\site-packages\\ipykernel\\kernelbase.py\u001b[0m in \u001b[0;36m_input_request\u001b[1;34m(self, prompt, ident, parent, password)\u001b[0m\n\u001b[0;32m    902\u001b[0m             \u001b[1;32mexcept\u001b[0m \u001b[0mKeyboardInterrupt\u001b[0m\u001b[1;33m:\u001b[0m\u001b[1;33m\u001b[0m\u001b[1;33m\u001b[0m\u001b[0m\n\u001b[0;32m    903\u001b[0m                 \u001b[1;31m# re-raise KeyboardInterrupt, to truncate traceback\u001b[0m\u001b[1;33m\u001b[0m\u001b[1;33m\u001b[0m\u001b[1;33m\u001b[0m\u001b[0m\n\u001b[1;32m--> 904\u001b[1;33m                 \u001b[1;32mraise\u001b[0m \u001b[0mKeyboardInterrupt\u001b[0m\u001b[1;33m(\u001b[0m\u001b[1;34m\"Interrupted by user\"\u001b[0m\u001b[1;33m)\u001b[0m \u001b[1;32mfrom\u001b[0m \u001b[1;32mNone\u001b[0m\u001b[1;33m\u001b[0m\u001b[1;33m\u001b[0m\u001b[0m\n\u001b[0m\u001b[0;32m    905\u001b[0m             \u001b[1;32mexcept\u001b[0m \u001b[0mException\u001b[0m \u001b[1;32mas\u001b[0m \u001b[0me\u001b[0m\u001b[1;33m:\u001b[0m\u001b[1;33m\u001b[0m\u001b[1;33m\u001b[0m\u001b[0m\n\u001b[0;32m    906\u001b[0m                 \u001b[0mself\u001b[0m\u001b[1;33m.\u001b[0m\u001b[0mlog\u001b[0m\u001b[1;33m.\u001b[0m\u001b[0mwarning\u001b[0m\u001b[1;33m(\u001b[0m\u001b[1;34m\"Invalid Message:\"\u001b[0m\u001b[1;33m,\u001b[0m \u001b[0mexc_info\u001b[0m\u001b[1;33m=\u001b[0m\u001b[1;32mTrue\u001b[0m\u001b[1;33m)\u001b[0m\u001b[1;33m\u001b[0m\u001b[1;33m\u001b[0m\u001b[0m\n",
      "\u001b[1;31mKeyboardInterrupt\u001b[0m: Interrupted by user"
     ]
    }
   ],
   "source": [
    "main()"
   ]
  },
  {
   "cell_type": "code",
   "execution_count": 11,
   "id": "7e31eedc-c129-4a90-88ae-fa0aee3e9070",
   "metadata": {},
   "outputs": [
    {
     "ename": "SyntaxError",
     "evalue": "invalid syntax (<ipython-input-11-8143b0c3f441>, line 15)",
     "output_type": "error",
     "traceback": [
      "\u001b[1;36m  File \u001b[1;32m\"<ipython-input-11-8143b0c3f441>\"\u001b[1;36m, line \u001b[1;32m15\u001b[0m\n\u001b[1;33m    print(f'{team_name} has won { df_worldseries_winners['team_name'].value_counts()[idx]} world series')\u001b[0m\n\u001b[1;37m                                                          ^\u001b[0m\n\u001b[1;31mSyntaxError\u001b[0m\u001b[1;31m:\u001b[0m invalid syntax\n"
     ]
    }
   ],
   "source": [
    "FILE_PATH = \"C:\\CIS5357\\ClassDemos\"\n",
    "\n",
    "continue_process = 'Y'\n",
    "\n",
    "df_worldseries_winners = pd.read_table(FILE_PATH + '\\WorldSeriesWinners.txt', header = None, sep= ',')\n",
    "df_worldseries_winners.columns = ['team_name']\n",
    "for idx,name in enumerate(df_winning_teams):    \n",
    "    while continue_process.upper() == 'Y':\n",
    "    \n",
    "        df_winning_teams = df_worldseries_winners['team_name'].value_counts().index.tolist() #look at it with and without index \n",
    "\n",
    "        team_name = input('Please enter the name of the team:  ')\n",
    "        if team_name in df_winning_teams:\n",
    "        \n",
    "                print(f'{team_name} has won { df_worldseries_winners['team_name'].value_counts()[idx]} world series')\n",
    "           \n",
    "    \n",
    "    \n",
    "            #print(f\"\\n{team_name} has won the world series a total of {df_worldseries_winners['team_name'].value_counts()} times between 1903 and 2009\\n\")\n",
    "                continue_process = input(f\"DO you wish to continue (Y or N)\").upper()\n",
    "\n",
    "            \n",
    "print(\"program terminated by user \")\n",
    "    \n"
   ]
  },
  {
   "cell_type": "code",
   "execution_count": 37,
   "id": "8e143cf9-d365-4956-accf-57d4543a066b",
   "metadata": {},
   "outputs": [
    {
     "name": "stdout",
     "output_type": "stream",
     "text": [
      "['New York Yankees', 'St. Louis Cardinals', 'Boston Red Sox', 'Los Angeles Dodgers', 'Pittsburgh Pirates', 'Philadelphia Athletics', 'Cincinnati Reds', 'New York Giants', 'Oakland Athletics', 'Detroit Tigers', 'Chicago White Sox', 'Baltimore Orioles', 'Florida Marlins', 'Philadelphia Phillies', 'New York Mets', 'Toronto Blue Jays', 'Minnesota Twins', 'Cleveland Indians', 'Chicago Cubs', 'Atlanta Braves', 'Arizona Diamondbacks', 'Boston Americans', 'Brooklyn Dodgers', 'Kansas City Royals', 'Milwaukee Braves', 'Washington Senators', 'Boston Braves', 'Anaheim Angels']\n",
      "1\n"
     ]
    }
   ],
   "source": [
    "print(df_winning_teams)\n",
    "print(df_worldseries_winners['team_name'].value_counts()[idx])\n",
    "\n",
    "\n",
    "    "
   ]
  }
 ],
 "metadata": {
  "kernelspec": {
   "display_name": "Python 3",
   "language": "python",
   "name": "python3"
  },
  "language_info": {
   "codemirror_mode": {
    "name": "ipython",
    "version": 3
   },
   "file_extension": ".py",
   "mimetype": "text/x-python",
   "name": "python",
   "nbconvert_exporter": "python",
   "pygments_lexer": "ipython3",
   "version": "3.8.11"
  }
 },
 "nbformat": 4,
 "nbformat_minor": 5
}
